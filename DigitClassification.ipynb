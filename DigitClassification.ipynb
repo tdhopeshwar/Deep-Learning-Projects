{
  "cells": [
    {
      "cell_type": "markdown",
      "source": [
        "# Homework 02"
      ],
      "metadata": {
        "id": "4ntLqKt1I84q"
      }
    },
    {
      "cell_type": "markdown",
      "source": [
        "## Step 1. Follow along with the tutorial to gain an understanding of the process\n",
        "\n",
        "## Step 2. In a new .ipynb notebook, reproduce the results utilizing the \"QMNIST\" dataset"
      ],
      "metadata": {
        "id": "h3KOc9Vnlm9-"
      }
    },
    {
      "cell_type": "code",
      "source": [
        "import torch\n",
        "import torch.nn as nn\n",
        "import torch.optim as optim\n",
        "import torchvision\n",
        "import torchvision.transforms as transforms\n",
        "from torch.utils.data import DataLoader\n",
        "import matplotlib.pyplot as plt"
      ],
      "metadata": {
        "id": "_BrJE-MSI-Kf"
      },
      "execution_count": 1,
      "outputs": []
    },
    {
      "cell_type": "markdown",
      "source": [
        "Loading the dataset returns four NumPy arrays:\n",
        "\n",
        "The train_images and train_labels arrays are the training set—the data the model uses to learn.\n",
        "The model is tested against the test set, the test_images, and test_labels arrays.\n",
        "The images are 28x28 NumPy arrays, with pixel values ranging from 0 to 255. The labels are an array of integers, ranging from 0 to 9.\n",
        "\n",
        "```\n",
        "Label\tClass\n",
        "0\tzero\n",
        "1\tone\n",
        "2\ttwo\n",
        "3\tthree\n",
        "4\tfour\n",
        "5\tfive\n",
        "6\tsix\n",
        "7\tseven\n",
        "8\teight\n",
        "9\tnine\n",
        "```\n",
        "\n",
        "Each image is mapped to a single label. Since the class names are not included with the dataset, store them here to use later when plotting the images:"
      ],
      "metadata": {
        "id": "Gn6_fct7NEO4"
      }
    },
    {
      "cell_type": "code",
      "source": [
        "# Load QMNIST dataset and preprocess\n",
        "transform = transforms.Compose([transforms.ToTensor(), transforms.Normalize((0.5,), (0.5,))])\n",
        "train_dataset = torchvision.datasets.QMNIST(root='./data', train=True, download=True, transform=transform)\n",
        "test_dataset = torchvision.datasets.QMNIST(root='./data', train=False, download=True, transform=transform)\n",
        "\n",
        "# Create data loaders\n",
        "train_loader = DataLoader(train_dataset, batch_size=64, shuffle=True)\n",
        "test_loader = DataLoader(test_dataset, batch_size=64, shuffle=False)"
      ],
      "metadata": {
        "id": "iKpUkd41Jtf4",
        "colab": {
          "base_uri": "https://localhost:8080/"
        },
        "outputId": "ac7cb6c2-d157-483e-df73-dae8d0fa3779"
      },
      "execution_count": 2,
      "outputs": [
        {
          "output_type": "stream",
          "name": "stdout",
          "text": [
            "Downloading https://raw.githubusercontent.com/facebookresearch/qmnist/master/qmnist-train-images-idx3-ubyte.gz to ./data/QMNIST/raw/qmnist-train-images-idx3-ubyte.gz\n"
          ]
        },
        {
          "output_type": "stream",
          "name": "stderr",
          "text": [
            "100%|██████████| 9704059/9704059 [00:00<00:00, 105512252.58it/s]"
          ]
        },
        {
          "output_type": "stream",
          "name": "stdout",
          "text": [
            "Extracting ./data/QMNIST/raw/qmnist-train-images-idx3-ubyte.gz to ./data/QMNIST/raw\n"
          ]
        },
        {
          "output_type": "stream",
          "name": "stderr",
          "text": [
            "\n"
          ]
        },
        {
          "output_type": "stream",
          "name": "stdout",
          "text": [
            "Downloading https://raw.githubusercontent.com/facebookresearch/qmnist/master/qmnist-train-labels-idx2-int.gz to ./data/QMNIST/raw/qmnist-train-labels-idx2-int.gz\n"
          ]
        },
        {
          "output_type": "stream",
          "name": "stderr",
          "text": [
            "100%|██████████| 463024/463024 [00:00<00:00, 18525306.11it/s]"
          ]
        },
        {
          "output_type": "stream",
          "name": "stdout",
          "text": [
            "Extracting ./data/QMNIST/raw/qmnist-train-labels-idx2-int.gz to ./data/QMNIST/raw\n"
          ]
        },
        {
          "output_type": "stream",
          "name": "stderr",
          "text": [
            "\n"
          ]
        },
        {
          "output_type": "stream",
          "name": "stdout",
          "text": [
            "Downloading https://raw.githubusercontent.com/facebookresearch/qmnist/master/qmnist-test-images-idx3-ubyte.gz to ./data/QMNIST/raw/qmnist-test-images-idx3-ubyte.gz\n"
          ]
        },
        {
          "output_type": "stream",
          "name": "stderr",
          "text": [
            "100%|██████████| 9742279/9742279 [00:00<00:00, 147023447.64it/s]"
          ]
        },
        {
          "output_type": "stream",
          "name": "stdout",
          "text": [
            "Extracting ./data/QMNIST/raw/qmnist-test-images-idx3-ubyte.gz to ./data/QMNIST/raw\n"
          ]
        },
        {
          "output_type": "stream",
          "name": "stderr",
          "text": [
            "\n"
          ]
        },
        {
          "output_type": "stream",
          "name": "stdout",
          "text": [
            "Downloading https://raw.githubusercontent.com/facebookresearch/qmnist/master/qmnist-test-labels-idx2-int.gz to ./data/QMNIST/raw/qmnist-test-labels-idx2-int.gz\n"
          ]
        },
        {
          "output_type": "stream",
          "name": "stderr",
          "text": [
            "100%|██████████| 526800/526800 [00:00<00:00, 21247601.69it/s]"
          ]
        },
        {
          "output_type": "stream",
          "name": "stdout",
          "text": [
            "Extracting ./data/QMNIST/raw/qmnist-test-labels-idx2-int.gz to ./data/QMNIST/raw\n"
          ]
        },
        {
          "output_type": "stream",
          "name": "stderr",
          "text": [
            "\n"
          ]
        }
      ]
    },
    {
      "cell_type": "markdown",
      "source": [
        "## Iterating and Visualizing the Dataset"
      ],
      "metadata": {
        "id": "A00skpJDS3r1"
      }
    },
    {
      "cell_type": "code",
      "source": [
        "labels_map = {\n",
        "    0: \"zero\",\n",
        "    1: \"one\",\n",
        "    2: \"two\",\n",
        "    3: \"three\",\n",
        "    4: \"four\",\n",
        "    5: \"five\",\n",
        "    6: \"six\",\n",
        "    7: \"seven\",\n",
        "    8: \"eight\",\n",
        "    9: \"nine\",\n",
        "}\n",
        "figure = plt.figure(figsize=(8, 8))\n",
        "cols, rows = 3, 3\n",
        "for i in range(1, cols * rows + 1):\n",
        "    sample_idx = torch.randint(len(train_dataset), size=(1,)).item()\n",
        "    img, label = train_dataset[sample_idx]\n",
        "    figure.add_subplot(rows, cols, i)\n",
        "    plt.title(labels_map[label])\n",
        "    plt.axis(\"off\")\n",
        "    plt.imshow(img.squeeze(), cmap=\"gray\")\n",
        "plt.show()"
      ],
      "metadata": {
        "colab": {
          "base_uri": "https://localhost:8080/",
          "height": 675
        },
        "id": "1aTWwvPVSEQn",
        "outputId": "0af18d43-194a-43b2-9ed4-aef830304188"
      },
      "execution_count": 3,
      "outputs": [
        {
          "output_type": "display_data",
          "data": {
            "text/plain": [
              "<Figure size 800x800 with 9 Axes>"
            ],
            "image/png": "[encoded data removed]"
          },
          "metadata": {}
        }
      ]
    },
    {
      "cell_type": "code",
      "source": [
        "#Test DataSet\n",
        "figure = plt.figure(figsize=(8, 8))\n",
        "cols, rows = 3, 3\n",
        "for i in range(1, cols * rows + 1):\n",
        "    sample_idx = torch.randint(len(test_dataset), size=(1,)).item()\n",
        "    img, label = test_dataset[sample_idx]\n",
        "    figure.add_subplot(rows, cols, i)\n",
        "    plt.title(labels_map[label])\n",
        "    plt.axis(\"off\")\n",
        "    plt.imshow(img.squeeze(), cmap=\"gray\")\n",
        "plt.show()"
      ],
      "metadata": {
        "colab": {
          "base_uri": "https://localhost:8080/",
          "height": 675
        },
        "id": "0bu-_rukSu77",
        "outputId": "b3067ead-fda3-4424-8f71-9f3bcc1f2fc7"
      },
      "execution_count": 4,
      "outputs": [
        {
          "output_type": "display_data",
          "data": {
            "text/plain": [
              "<Figure size 800x800 with 9 Axes>"
            ],
            "image/png": "[encoded data removed]"
          },
          "metadata": {}
        }
      ]
    },
    {
      "cell_type": "code",
      "source": [
        "#Define the neural network architecture\n",
        "class MLP(nn.Module):\n",
        "    def __init__(self):\n",
        "        super(MLP, self).__init__()\n",
        "        self.fc1 = nn.Linear(28 * 28, 128)\n",
        "        self.fc2 = nn.Linear(128, 64)\n",
        "        self.fc3 = nn.Linear(64, 10)\n",
        "\n",
        "    def forward(self, x):\n",
        "        x = x.view(-1, 28 * 28)\n",
        "        x = torch.relu(self.fc1(x))\n",
        "        x = torch.relu(self.fc2(x))\n",
        "        x = self.fc3(x)\n",
        "        return x\n",
        "\n",
        "# Initialize the neural network\n",
        "model = MLP()"
      ],
      "metadata": {
        "id": "eBt_6_T0JxRZ"
      },
      "execution_count": 5,
      "outputs": []
    },
    {
      "cell_type": "code",
      "source": [
        "# Define the loss function and optimizer\n",
        "criterion = nn.CrossEntropyLoss()\n",
        "optimizer = optim.Adam(model.parameters(), lr=0.001)\n",
        "\n",
        "# Train the neural network\n",
        "num_epochs = 5\n",
        "for epoch in range(num_epochs):\n",
        "    model.train()\n",
        "    running_loss = 0.0\n",
        "    for i, data in enumerate(train_loader, 0):\n",
        "        inputs, labels = data\n",
        "        optimizer.zero_grad()\n",
        "        outputs = model(inputs)\n",
        "        loss = criterion(outputs, labels)\n",
        "        loss.backward()\n",
        "        optimizer.step()\n",
        "        running_loss += loss.item()\n",
        "        if i % 100 == 99:  # print every 100 mini-batches\n",
        "            print(f'Epoch {epoch + 1}, Batch {i + 1}, Loss: {running_loss / 100}')\n",
        "            running_loss = 0.0\n",
        "\n",
        "print('Finished Training')"
      ],
      "metadata": {
        "id": "i7LOPbrkJ3Pi",
        "outputId": "f9ee9160-9625-40f7-ac25-0469fe0dde5d",
        "colab": {
          "base_uri": "https://localhost:8080/"
        }
      },
      "execution_count": 6,
      "outputs": [
        {
          "output_type": "stream",
          "name": "stdout",
          "text": [
            "Epoch 1, Batch 100, Loss: 1.039912818968296\n",
            "Epoch 1, Batch 200, Loss: 0.4314788065850735\n",
            "Epoch 1, Batch 300, Loss: 0.3985300162434578\n",
            "Epoch 1, Batch 400, Loss: 0.3486643570661545\n",
            "Epoch 1, Batch 500, Loss: 0.32799233809113504\n",
            "Epoch 1, Batch 600, Loss: 0.31175397425889967\n",
            "Epoch 1, Batch 700, Loss: 0.29149720422923564\n",
            "Epoch 1, Batch 800, Loss: 0.27009903248399497\n",
            "Epoch 1, Batch 900, Loss: 0.26305700331926346\n",
            "Epoch 2, Batch 100, Loss: 0.23679918624460697\n",
            "Epoch 2, Batch 200, Loss: 0.22231985241174698\n",
            "Epoch 2, Batch 300, Loss: 0.2126964517682791\n",
            "Epoch 2, Batch 400, Loss: 0.20952611457556486\n",
            "Epoch 2, Batch 500, Loss: 0.19973242547363043\n",
            "Epoch 2, Batch 600, Loss: 0.172581967972219\n",
            "Epoch 2, Batch 700, Loss: 0.1951978100463748\n",
            "Epoch 2, Batch 800, Loss: 0.16808914493769408\n",
            "Epoch 2, Batch 900, Loss: 0.1770450621843338\n",
            "Epoch 3, Batch 100, Loss: 0.16110652178525925\n",
            "Epoch 3, Batch 200, Loss: 0.14720284461975097\n",
            "Epoch 3, Batch 300, Loss: 0.14281261682510377\n",
            "Epoch 3, Batch 400, Loss: 0.14330279793590306\n",
            "Epoch 3, Batch 500, Loss: 0.1370010070130229\n",
            "Epoch 3, Batch 600, Loss: 0.14059252394363284\n",
            "Epoch 3, Batch 700, Loss: 0.13928617879748345\n",
            "Epoch 3, Batch 800, Loss: 0.147496193125844\n",
            "Epoch 3, Batch 900, Loss: 0.14157921716570854\n",
            "Epoch 4, Batch 100, Loss: 0.10688522370532155\n",
            "Epoch 4, Batch 200, Loss: 0.11220436120405793\n",
            "Epoch 4, Batch 300, Loss: 0.1055052194930613\n",
            "Epoch 4, Batch 400, Loss: 0.12215869552455842\n",
            "Epoch 4, Batch 500, Loss: 0.13188553180545567\n",
            "Epoch 4, Batch 600, Loss: 0.11454499428160489\n",
            "Epoch 4, Batch 700, Loss: 0.12326533317565919\n",
            "Epoch 4, Batch 800, Loss: 0.12307182256132364\n",
            "Epoch 4, Batch 900, Loss: 0.11600209584459663\n",
            "Epoch 5, Batch 100, Loss: 0.08840040146373213\n",
            "Epoch 5, Batch 200, Loss: 0.10477187793701886\n",
            "Epoch 5, Batch 300, Loss: 0.09709846161305904\n",
            "Epoch 5, Batch 400, Loss: 0.10290317102335393\n",
            "Epoch 5, Batch 500, Loss: 0.10941060620360077\n",
            "Epoch 5, Batch 600, Loss: 0.09785919334739447\n",
            "Epoch 5, Batch 700, Loss: 0.1078879955969751\n",
            "Epoch 5, Batch 800, Loss: 0.08671441488899291\n",
            "Epoch 5, Batch 900, Loss: 0.10176513697952032\n",
            "Finished Training\n"
          ]
        }
      ]
    },
    {
      "cell_type": "code",
      "source": [
        "# Evaluate the model\n",
        "model.eval()\n",
        "correct = 0\n",
        "total = 0\n",
        "with torch.no_grad():\n",
        "    for data in train_loader:\n",
        "        images, labels = data\n",
        "        outputs = model(images)\n",
        "        _, predicted = torch.max(outputs.data, 1)\n",
        "        total += labels.size(0)\n",
        "        correct += (predicted == labels).sum().item()\n",
        "\n",
        "print(f'Accuracy on train set: { correct / total}')"
      ],
      "metadata": {
        "colab": {
          "base_uri": "https://localhost:8080/"
        },
        "id": "5kLvTJEimNN-",
        "outputId": "bdf6cd99-dc84-42f7-ce17-85d8539affba"
      },
      "execution_count": 7,
      "outputs": [
        {
          "output_type": "stream",
          "name": "stdout",
          "text": [
            "Accuracy on train set: 0.97165\n"
          ]
        }
      ]
    },
    {
      "cell_type": "code",
      "source": [
        "# Evaluate the model\n",
        "model.eval()\n",
        "correct = 0\n",
        "total = 0\n",
        "with torch.no_grad():\n",
        "    for data in test_loader:\n",
        "        images, labels = data\n",
        "        outputs = model(images)\n",
        "        _, predicted = torch.max(outputs.data, 1)\n",
        "        total += labels.size(0)\n",
        "        correct += (predicted == labels).sum().item()\n",
        "\n",
        "print(f'Accuracy on test set: { correct / total}')"
      ],
      "metadata": {
        "id": "3DXPLgQJJ6Aq",
        "outputId": "9961af0a-dca8-4c23-fdc6-76548eef29f2",
        "colab": {
          "base_uri": "https://localhost:8080/"
        }
      },
      "execution_count": 8,
      "outputs": [
        {
          "output_type": "stream",
          "name": "stdout",
          "text": [
            "Accuracy on test set: 0.962\n"
          ]
        }
      ]
    },
    {
      "cell_type": "markdown",
      "source": [
        "High Accuracy is observed in both training and test sets. This could mean that the model is generalizing well. However, there is a chance that the test data and train data is very similar which is why the model is able to predict the labels correctly in most of the cases\n",
        "\n"
      ],
      "metadata": {
        "id": "qJANCPx2m837"
      }
    },
    {
      "cell_type": "markdown",
      "source": [
        "### Predicted vs Actual Labels"
      ],
      "metadata": {
        "id": "ab3aabNvF9E2"
      }
    },
    {
      "cell_type": "code",
      "source": [
        "import random\n",
        "import torch\n",
        "\n",
        "# Set the model to evaluation mode\n",
        "model.eval()\n",
        "\n",
        "\n",
        "stored_images = []\n",
        "stored_labels = []\n",
        "stored_predictions = []\n",
        "\n",
        "# Disable gradient calculation\n",
        "with torch.no_grad():\n",
        "    for data in test_loader:\n",
        "        images, labels = data\n",
        "        outputs = model(images)\n",
        "\n",
        "\n",
        "        _, predicted = torch.max(outputs.data, 1)\n",
        "\n",
        "        # Store the images, labels, and predictions\n",
        "        stored_images.extend(images.numpy())\n",
        "        stored_labels.extend(labels.numpy())\n",
        "        stored_predictions.extend(predicted.numpy())\n"
      ],
      "metadata": {
        "id": "9W9gFcimWSeT"
      },
      "execution_count": 9,
      "outputs": []
    },
    {
      "cell_type": "code",
      "source": [
        "import matplotlib.pyplot as plt\n",
        "\n",
        "def show_random_predictions(num_images=5):\n",
        "    # Choose random indices to select images\n",
        "    indices = random.sample(range(len(stored_images)), num_images)\n",
        "\n",
        "    # Create a figure to display the images\n",
        "    plt.figure(figsize=(10, 2 * num_images))\n",
        "\n",
        "    for i, idx in enumerate(indices):\n",
        "        image = stored_images[idx].reshape(28, 28)  # Reshape the image to 28x28\n",
        "        true_label = stored_labels[idx]\n",
        "        predicted_label = stored_predictions[idx]\n",
        "\n",
        "        plt.subplot(num_images, 1, i + 1)\n",
        "        plt.imshow(image, cmap='gray')\n",
        "        plt.title(f'Predicted: {predicted_label}, Actual: {true_label}')\n",
        "        plt.axis('off')\n",
        "\n",
        "    plt.tight_layout()\n",
        "    plt.show()\n",
        "\n",
        "# Call the function to display random images with their predictions\n",
        "show_random_predictions(num_images=10)\n"
      ],
      "metadata": {
        "colab": {
          "base_uri": "https://localhost:8080/",
          "height": 1000
        },
        "id": "vJMTVoOJWipe",
        "outputId": "a03379d5-bfea-4739-a758-debcc9e3627e"
      },
      "execution_count": 10,
      "outputs": [
        {
          "output_type": "display_data",
          "data": {
            "text/plain": [
              "<Figure size 1000x2000 with 10 Axes>"
            ],
            "image/png": "[encoded data removed]"
          },
          "metadata": {}
        }
      ]
    },
    {
      "cell_type": "markdown",
      "source": [
        "## Step 4. Choose one of the proposed modifications below:\n",
        "\n",
        "**Increase the current number of nodes in the layer to 256**\n",
        "\n",
        "**Hypothesis for Increasing the Number of Neurons in the First Layer from 128 to 256**\n",
        "\n",
        "\n",
        "Increased Learning Capacity:\n",
        "By increasing the number of neurons in the first layer from 128 to 256, the model will have a higher capacity to learn more complex patterns in the data. This could potentially lead to improved performance on the training set as the model can represent more intricate relationships within the data.\n",
        "\n",
        "Potential Improvement in Generalization:\n",
        "If the data is complex and requires a richer feature representation, the additional neurons may help the model generalize better to unseen data by capturing more relevant features. This may result in a slight improvement in test accuracy if the model was underfitting with fewer neurons.\n",
        "\n",
        "Higher Risk of Overfitting:\n",
        "Increasing the number of neurons will increase the number of parameters in the model, which could lead to overfitting, especially if the training dataset is not large or diverse enough. The model might start memorizing the training data rather than learning to generalize well to new data. This could be observed by a widening gap between training and test accuracies or an increase in test loss.\n",
        "\n",
        "Slower Convergence and Increased Training Time:\n",
        "The model with more neurons will have more parameters to learn, which could result in slower convergence during training. More epochs or a smaller learning rate might be required to achieve the same level of performance, potentially leading to longer training times.\n",
        "\n",
        "\n",
        "Null Hypothesis:\n",
        "Increasing the number of neurons in the first hidden layer from 128 to 256 will have no significant effect on the model's performance or generalization ability. The test accuracy and loss will remain approximately the same as with the original configuration.\n",
        "\n",
        "Alternate Hypothesis:\n",
        "Increasing the number of neurons in the first hidden layer from 128 to 256 will result in one or more of the following changes:\n",
        "\n",
        "\n",
        "\n",
        "\n",
        "\n",
        "\n"
      ],
      "metadata": {
        "id": "s64av5DEpqg3"
      }
    },
    {
      "cell_type": "code",
      "source": [
        "import torch\n",
        "import torch.nn as nn\n",
        "\n",
        "\n",
        "class MLP(nn.Module):\n",
        "    def __init__(self):\n",
        "        super(MLP, self).__init__()\n",
        "        self.fc1 = nn.Linear(28 * 28, 256)  # Changed from 128 to 256 neurons\n",
        "        self.fc2 = nn.Linear(256, 64)       # Updated to match the new number of neurons\n",
        "        self.fc3 = nn.Linear(64, 10)\n",
        "\n",
        "    def forward(self, x):\n",
        "        x = x.view(-1, 28 * 28)\n",
        "        x = torch.relu(self.fc1(x))\n",
        "        x = torch.relu(self.fc2(x))\n",
        "        x = self.fc3(x)\n",
        "        return x\n",
        "\n",
        "# Initialize the neural network\n",
        "model = MLP()\n"
      ],
      "metadata": {
        "id": "itSYrdHSZ3hO"
      },
      "execution_count": 11,
      "outputs": []
    },
    {
      "cell_type": "code",
      "source": [
        "# Define the loss function and optimizer\n",
        "criterion = nn.CrossEntropyLoss()\n",
        "optimizer = optim.Adam(model.parameters(), lr=0.001)\n",
        "\n",
        "# Train the neural network\n",
        "num_epochs = 5\n",
        "for epoch in range(num_epochs):\n",
        "    model.train()\n",
        "    running_loss = 0.0\n",
        "    for i, data in enumerate(train_loader, 0):\n",
        "        inputs, labels = data\n",
        "        optimizer.zero_grad()\n",
        "        outputs = model(inputs)\n",
        "        loss = criterion(outputs, labels)\n",
        "        loss.backward()\n",
        "        optimizer.step()\n",
        "        running_loss += loss.item()\n",
        "        if i % 100 == 99:  # print every 100 mini-batches\n",
        "            print(f'Epoch {epoch + 1}, Batch {i + 1}, Loss: {running_loss / 100}')\n",
        "            running_loss = 0.0\n",
        "\n",
        "print('Finished Training')"
      ],
      "metadata": {
        "colab": {
          "base_uri": "https://localhost:8080/"
        },
        "id": "R_hGJt0RaeHK",
        "outputId": "55b42ca2-2050-4ee4-ae43-2a1cc0f4aa2e"
      },
      "execution_count": 12,
      "outputs": [
        {
          "output_type": "stream",
          "name": "stdout",
          "text": [
            "Epoch 1, Batch 100, Loss: 0.8637669688463211\n",
            "Epoch 1, Batch 200, Loss: 0.41648651391267777\n",
            "Epoch 1, Batch 300, Loss: 0.3782477630674839\n",
            "Epoch 1, Batch 400, Loss: 0.3267154850810766\n",
            "Epoch 1, Batch 500, Loss: 0.30799195818603037\n",
            "Epoch 1, Batch 600, Loss: 0.2906809610873461\n",
            "Epoch 1, Batch 700, Loss: 0.22318613827228545\n",
            "Epoch 1, Batch 800, Loss: 0.21673894867300988\n",
            "Epoch 1, Batch 900, Loss: 0.22008985020220279\n",
            "Epoch 2, Batch 100, Loss: 0.1909509651735425\n",
            "Epoch 2, Batch 200, Loss: 0.16701428666710855\n",
            "Epoch 2, Batch 300, Loss: 0.16952516067773105\n",
            "Epoch 2, Batch 400, Loss: 0.166242791749537\n",
            "Epoch 2, Batch 500, Loss: 0.15466214329004288\n",
            "Epoch 2, Batch 600, Loss: 0.15013063207268715\n",
            "Epoch 2, Batch 700, Loss: 0.15419566877186297\n",
            "Epoch 2, Batch 800, Loss: 0.1646386256814003\n",
            "Epoch 2, Batch 900, Loss: 0.135932602789253\n",
            "Epoch 3, Batch 100, Loss: 0.13233736649155617\n",
            "Epoch 3, Batch 200, Loss: 0.11621674568392336\n",
            "Epoch 3, Batch 300, Loss: 0.1323221999593079\n",
            "Epoch 3, Batch 400, Loss: 0.12568179505877197\n",
            "Epoch 3, Batch 500, Loss: 0.11279815302230417\n",
            "Epoch 3, Batch 600, Loss: 0.10389231136068702\n",
            "Epoch 3, Batch 700, Loss: 0.10106058277189732\n",
            "Epoch 3, Batch 800, Loss: 0.12206396158784628\n",
            "Epoch 3, Batch 900, Loss: 0.11394117713905871\n",
            "Epoch 4, Batch 100, Loss: 0.08952105695381761\n",
            "Epoch 4, Batch 200, Loss: 0.10173332532867789\n",
            "Epoch 4, Batch 300, Loss: 0.09220299903303385\n",
            "Epoch 4, Batch 400, Loss: 0.08923523679375649\n",
            "Epoch 4, Batch 500, Loss: 0.0911996464151889\n",
            "Epoch 4, Batch 600, Loss: 0.09860354989767074\n",
            "Epoch 4, Batch 700, Loss: 0.10073411216028035\n",
            "Epoch 4, Batch 800, Loss: 0.08927028224803507\n",
            "Epoch 4, Batch 900, Loss: 0.09765367425046861\n",
            "Epoch 5, Batch 100, Loss: 0.07804665856529028\n",
            "Epoch 5, Batch 200, Loss: 0.07237286971416325\n",
            "Epoch 5, Batch 300, Loss: 0.08535827801562845\n",
            "Epoch 5, Batch 400, Loss: 0.09206132739782333\n",
            "Epoch 5, Batch 500, Loss: 0.07730187139473856\n",
            "Epoch 5, Batch 600, Loss: 0.08695539268665016\n",
            "Epoch 5, Batch 700, Loss: 0.0818986380007118\n",
            "Epoch 5, Batch 800, Loss: 0.0872502126544714\n",
            "Epoch 5, Batch 900, Loss: 0.08146202240604908\n",
            "Finished Training\n"
          ]
        }
      ]
    },
    {
      "cell_type": "code",
      "source": [
        "# Evaluate the model\n",
        "model.eval()\n",
        "correct = 0\n",
        "total = 0\n",
        "with torch.no_grad():\n",
        "    for data in train_loader:\n",
        "        images, labels = data\n",
        "        outputs = model(images)\n",
        "        _, predicted = torch.max(outputs.data, 1)\n",
        "        total += labels.size(0)\n",
        "        correct += (predicted == labels).sum().item()\n",
        "\n",
        "print(f'Accuracy on train set: { correct / total}')"
      ],
      "metadata": {
        "colab": {
          "base_uri": "https://localhost:8080/"
        },
        "id": "Nh7Vvfm1sEpr",
        "outputId": "d09eb694-238c-489e-8a6b-f14608514de2"
      },
      "execution_count": 13,
      "outputs": [
        {
          "output_type": "stream",
          "name": "stdout",
          "text": [
            "Accuracy on train set: 0.9817833333333333%\n"
          ]
        }
      ]
    },
    {
      "cell_type": "code",
      "source": [
        "# Evaluate the model\n",
        "model.eval()\n",
        "correct = 0\n",
        "total = 0\n",
        "with torch.no_grad():\n",
        "    for data in test_loader:\n",
        "        images, labels = data\n",
        "        outputs = model(images)\n",
        "        _, predicted = torch.max(outputs.data, 1)\n",
        "        total += labels.size(0)\n",
        "        correct += (predicted == labels).sum().item()\n",
        "\n",
        "print(f'Accuracy on test set: { correct / total}')"
      ],
      "metadata": {
        "colab": {
          "base_uri": "https://localhost:8080/"
        },
        "id": "BFsftEIaZ6iK",
        "outputId": "cccc9783-360a-4323-e758-31dc72af4f62"
      },
      "execution_count": 14,
      "outputs": [
        {
          "output_type": "stream",
          "name": "stdout",
          "text": [
            "Accuracy on test set: 0.9708%\n"
          ]
        }
      ]
    },
    {
      "cell_type": "markdown",
      "source": [
        "**Results of Hypothesis:**\n",
        "\n",
        "Increased Learning Capacity:\n",
        "The increase in the number of neurons did not significantly affect the model's learning capacity in terms of test accuracy. The model's ability to learn and represent patterns in the training data might have increased due to the added neurons, but this did not translate into improved performance on the test set. This suggests that the original configuration (128 neurons) was already sufficient to capture the necessary patterns in the data.\n",
        "\n",
        "Potential Improvement in Generalization: There was no observed improvement in generalization, as indicated by the unchanged test accuracy. The additional neurons did not help the model generalize better to the test data. This could mean that the model with 128 neurons already had an adequate capacity to generalize well and that adding more neurons did not provide any further benefit.\n",
        "\n",
        "Higher Risk of Overfitting:\n",
        "There was no significant evidence of increased overfitting as the test accuracy remained the same. If overfitting had occurred, we would typically observe a significant gap between training accuracy and test accuracy, with the test accuracy being lower. Since test accuracy did not change, it suggests that the additional neurons did not cause the model to overfit the training data.\n",
        "\n",
        "Slower Convergence and Increased Training Time:\n",
        "While the test accuracy remained the same, increasing the number of neurons could still have caused slower convergence and longer training times due to the increased number of parameters. However, since the test accuracy did not change, this suggests that any increase in training time did not result in a corresponding improvement in model performance.\n",
        "\n",
        "Results of Hypothesis Test:\n",
        "Null Hypothesis: Increasing the number of neurons in the first hidden layer from 128 to 256 will have no significant effect on the model's performance or generalization ability.\n",
        "\n",
        "Outcome: The null hypothesis is supported. The test accuracy did not significantly changed, indicating no significant change in performance or generalization ability.\n"
      ],
      "metadata": {
        "id": "4WITwNtEyJZY"
      }
    },
    {
      "cell_type": "markdown",
      "source": [
        "## Checking for Overfitting"
      ],
      "metadata": {
        "id": "5TqIM4TRC33M"
      }
    },
    {
      "cell_type": "code",
      "source": [
        "\n",
        "import matplotlib.pyplot as plt\n",
        "\n",
        "# Define lists to store loss values\n",
        "train_losses = []\n",
        "test_losses = []\n",
        "\n",
        "# Training and Evaluation Loop\n",
        "num_epochs = 5\n",
        "for epoch in range(num_epochs):\n",
        "    # Training\n",
        "    model.train()\n",
        "    running_loss = 0.0\n",
        "    for i, data in enumerate(train_loader, 0):\n",
        "        inputs, labels = data\n",
        "        optimizer.zero_grad()\n",
        "        outputs = model(inputs)\n",
        "        loss = criterion(outputs, labels)\n",
        "        loss.backward()\n",
        "        optimizer.step()\n",
        "        running_loss += loss.item()\n",
        "\n",
        "    train_losses.append(running_loss / len(train_loader))\n",
        "\n",
        "    # Evaluation\n",
        "    model.eval()\n",
        "    test_loss = 0.0\n",
        "    with torch.no_grad():\n",
        "        for data in test_loader:\n",
        "            images, labels = data\n",
        "            outputs = model(images)\n",
        "            loss = criterion(outputs, labels)\n",
        "            test_loss += loss.item()\n",
        "    test_losses.append(test_loss / len(test_loader))\n",
        "\n",
        "\n",
        "# Plotting the loss curves\n",
        "plt.plot(range(num_epochs), train_losses, label='Training Loss')\n",
        "plt.plot(range(num_epochs), test_losses, label='Test Loss')\n",
        "plt.xlabel('Epoch')\n",
        "plt.ylabel('Loss')\n",
        "plt.legend()\n",
        "plt.title('Training and Test Loss Curves')\n",
        "plt.show()\n"
      ],
      "metadata": {
        "colab": {
          "base_uri": "https://localhost:8080/",
          "height": 472
        },
        "id": "tEIBtukMbiQb",
        "outputId": "ea4c4add-d8df-4c9c-b7b9-63da5ccefa18"
      },
      "execution_count": 15,
      "outputs": [
        {
          "output_type": "display_data",
          "data": {
            "text/plain": [
              "<Figure size 640x480 with 1 Axes>"
            ],
            "image/png": "[encoded data removed]"
          },
          "metadata": {}
        }
      ]
    },
    {
      "cell_type": "markdown",
      "source": [
        "The above graph indicates possibility of the model overfitting the data"
      ],
      "metadata": {
        "id": "RFYgXvhDC-k1"
      }
    },
    {
      "cell_type": "markdown",
      "source": [
        "##Step 7. Experiment with different optimizers, loss functions, dropout, and activation functions, and observe the change in performance as you tune these hyperparameters."
      ],
      "metadata": {
        "id": "PLmkWGhMFysc"
      }
    },
    {
      "cell_type": "markdown",
      "source": [
        "## 1. Experimenting with different optimizers"
      ],
      "metadata": {
        "id": "4bDTixD7OCjb"
      }
    },
    {
      "cell_type": "markdown",
      "source": [
        "### SGD Optimizer"
      ],
      "metadata": {
        "id": "u8si5uJ5HDO3"
      }
    },
    {
      "cell_type": "code",
      "source": [
        "import torch\n",
        "import torch.nn as nn\n",
        "\n",
        "# Define the neural network architecture with updated number of neurons\n",
        "class MLP(nn.Module):\n",
        "    def __init__(self):\n",
        "        super(MLP, self).__init__()\n",
        "        self.fc1 = nn.Linear(28 * 28, 128)\n",
        "        self.fc2 = nn.Linear(128, 64)\n",
        "        self.fc3 = nn.Linear(64, 10)\n",
        "\n",
        "    def forward(self, x):\n",
        "        x = x.view(-1, 28 * 28)\n",
        "        x = torch.relu(self.fc1(x))\n",
        "        x = torch.relu(self.fc2(x))\n",
        "        x = self.fc3(x)\n",
        "        return x\n",
        "\n",
        "# Initialize the neural network\n",
        "model = MLP()\n",
        "\n",
        "# Define the loss function and optimizer\n",
        "criterion = nn.CrossEntropyLoss()\n",
        "optimizer = optim.SGD(model.parameters(), lr=0.01, momentum=0.9)\n",
        "\n",
        "# Train the neural network\n",
        "num_epochs = 5\n",
        "for epoch in range(num_epochs):\n",
        "    model.train()\n",
        "    running_loss = 0.0\n",
        "    for i, data in enumerate(train_loader, 0):\n",
        "        inputs, labels = data\n",
        "        optimizer.zero_grad()\n",
        "        outputs = model(inputs)\n",
        "        loss = criterion(outputs, labels)\n",
        "        loss.backward()\n",
        "        optimizer.step()\n",
        "        running_loss += loss.item()\n",
        "        if i % 100 == 99:  # print every 100 mini-batches\n",
        "            print(f'Epoch {epoch + 1}, Batch {i + 1}, Loss: {running_loss / 100}')\n",
        "            running_loss = 0.0\n",
        "\n",
        "print('Finished Training')\n",
        "\n",
        "# Evaluate the model\n",
        "model.eval()\n",
        "correct = 0\n",
        "total = 0\n",
        "with torch.no_grad():\n",
        "    for data in test_loader:\n",
        "        images, labels = data\n",
        "        outputs = model(images)\n",
        "        _, predicted = torch.max(outputs.data, 1)\n",
        "        total += labels.size(0)\n",
        "        correct += (predicted == labels).sum().item()\n",
        "\n",
        "print(f'Accuracy on test set: { correct / total}')"
      ],
      "metadata": {
        "colab": {
          "base_uri": "https://localhost:8080/"
        },
        "id": "LzAFJ0TeDNf8",
        "outputId": "44e993c7-47e8-4747-c6ff-377c5446a736"
      },
      "execution_count": 17,
      "outputs": [
        {
          "output_type": "stream",
          "name": "stdout",
          "text": [
            "Epoch 1, Batch 100, Loss: 1.2663949316740035\n",
            "Epoch 1, Batch 200, Loss: 0.46542293041944505\n",
            "Epoch 1, Batch 300, Loss: 0.3766078120470047\n",
            "Epoch 1, Batch 400, Loss: 0.31938236869871617\n",
            "Epoch 1, Batch 500, Loss: 0.32092810943722727\n",
            "Epoch 1, Batch 600, Loss: 0.2957056416198611\n",
            "Epoch 1, Batch 700, Loss: 0.2646942812949419\n",
            "Epoch 1, Batch 800, Loss: 0.24249208182096482\n",
            "Epoch 1, Batch 900, Loss: 0.2489932819455862\n",
            "Epoch 2, Batch 100, Loss: 0.2149851955473423\n",
            "Epoch 2, Batch 200, Loss: 0.1997242857515812\n",
            "Epoch 2, Batch 300, Loss: 0.1896139716729522\n",
            "Epoch 2, Batch 400, Loss: 0.19643987331539392\n",
            "Epoch 2, Batch 500, Loss: 0.18845027625560762\n",
            "Epoch 2, Batch 600, Loss: 0.15381353992968796\n",
            "Epoch 2, Batch 700, Loss: 0.16753083225339652\n",
            "Epoch 2, Batch 800, Loss: 0.15124513873830436\n",
            "Epoch 2, Batch 900, Loss: 0.16411773193627596\n",
            "Epoch 3, Batch 100, Loss: 0.13096432477235795\n",
            "Epoch 3, Batch 200, Loss: 0.12061006089672446\n",
            "Epoch 3, Batch 300, Loss: 0.12874610882252455\n",
            "Epoch 3, Batch 400, Loss: 0.1379446257278323\n",
            "Epoch 3, Batch 500, Loss: 0.1346064429357648\n",
            "Epoch 3, Batch 600, Loss: 0.1252864961605519\n",
            "Epoch 3, Batch 700, Loss: 0.13493898352608086\n",
            "Epoch 3, Batch 800, Loss: 0.1280756171606481\n",
            "Epoch 3, Batch 900, Loss: 0.13418308313935995\n",
            "Epoch 4, Batch 100, Loss: 0.11117945063859225\n",
            "Epoch 4, Batch 200, Loss: 0.09663974342867732\n",
            "Epoch 4, Batch 300, Loss: 0.0953771626483649\n",
            "Epoch 4, Batch 400, Loss: 0.09755301194265485\n",
            "Epoch 4, Batch 500, Loss: 0.10897139799781144\n",
            "Epoch 4, Batch 600, Loss: 0.10951785711571574\n",
            "Epoch 4, Batch 700, Loss: 0.1212675803899765\n",
            "Epoch 4, Batch 800, Loss: 0.11200492424890399\n",
            "Epoch 4, Batch 900, Loss: 0.10474783718585969\n",
            "Epoch 5, Batch 100, Loss: 0.0974645240791142\n",
            "Epoch 5, Batch 200, Loss: 0.09478362034074962\n",
            "Epoch 5, Batch 300, Loss: 0.0875668491050601\n",
            "Epoch 5, Batch 400, Loss: 0.08848697004839778\n",
            "Epoch 5, Batch 500, Loss: 0.08992710162885487\n",
            "Epoch 5, Batch 600, Loss: 0.07931120773777366\n",
            "Epoch 5, Batch 700, Loss: 0.08377173310145736\n",
            "Epoch 5, Batch 800, Loss: 0.07947361183352769\n",
            "Epoch 5, Batch 900, Loss: 0.09482726475223899\n",
            "Finished Training\n",
            "Accuracy on test set: 0.96375\n"
          ]
        }
      ]
    },
    {
      "cell_type": "markdown",
      "source": [
        "As observed SGD is giving similar results as Adam Optimizer"
      ],
      "metadata": {
        "id": "d6TZLH_mI-xY"
      }
    },
    {
      "cell_type": "markdown",
      "source": [
        "### RMSProp"
      ],
      "metadata": {
        "id": "7w-Sc8PCKFAp"
      }
    },
    {
      "cell_type": "code",
      "source": [
        "import torch\n",
        "import torch.nn as nn\n",
        "\n",
        "# Define the neural network architecture with updated number of neurons\n",
        "class MLP(nn.Module):\n",
        "    def __init__(self):\n",
        "        super(MLP, self).__init__()\n",
        "        self.fc1 = nn.Linear(28 * 28, 128)  # Changed from 128 to 256 neurons\n",
        "        self.fc2 = nn.Linear(128, 64)       # Updated to match the new number of neurons\n",
        "        self.fc3 = nn.Linear(64, 10)\n",
        "\n",
        "    def forward(self, x):\n",
        "        x = x.view(-1, 28 * 28)\n",
        "        x = torch.relu(self.fc1(x))\n",
        "        x = torch.relu(self.fc2(x))\n",
        "        x = self.fc3(x)\n",
        "        return x\n",
        "\n",
        "# Initialize the neural network\n",
        "model = MLP()\n",
        "\n",
        "\n",
        "# Define the loss function and optimizer\n",
        "criterion = nn.CrossEntropyLoss()\n",
        "optimizer = optim.RMSprop(model.parameters(), lr=0.001)\n",
        "\n",
        "# Train the neural network\n",
        "num_epochs = 5\n",
        "for epoch in range(num_epochs):\n",
        "    model.train()\n",
        "    running_loss = 0.0\n",
        "    for i, data in enumerate(train_loader, 0):\n",
        "        inputs, labels = data\n",
        "        optimizer.zero_grad()\n",
        "        outputs = model(inputs)\n",
        "        loss = criterion(outputs, labels)\n",
        "        loss.backward()\n",
        "        optimizer.step()\n",
        "        running_loss += loss.item()\n",
        "        if i % 100 == 99:  # print every 100 mini-batches\n",
        "            print(f'Epoch {epoch + 1}, Batch {i + 1}, Loss: {running_loss / 100}')\n",
        "            running_loss = 0.0\n",
        "\n",
        "print('Finished Training')\n",
        "\n",
        "# Evaluate the model\n",
        "model.eval()\n",
        "correct = 0\n",
        "total = 0\n",
        "with torch.no_grad():\n",
        "    for data in test_loader:\n",
        "        images, labels = data\n",
        "        outputs = model(images)\n",
        "        _, predicted = torch.max(outputs.data, 1)\n",
        "        total += labels.size(0)\n",
        "        correct += (predicted == labels).sum().item()\n",
        "\n",
        "print(f'Accuracy on test set: { correct / total}')"
      ],
      "metadata": {
        "colab": {
          "base_uri": "https://localhost:8080/"
        },
        "id": "NEdfc0_iFgBJ",
        "outputId": "e044a5e5-96ad-47e9-a710-359094ae417f"
      },
      "execution_count": 20,
      "outputs": [
        {
          "output_type": "stream",
          "name": "stdout",
          "text": [
            "Epoch 1, Batch 100, Loss: 1.02737556964159\n",
            "Epoch 1, Batch 200, Loss: 0.4741986207664013\n",
            "Epoch 1, Batch 300, Loss: 0.4036251616477966\n",
            "Epoch 1, Batch 400, Loss: 0.37062671184539797\n",
            "Epoch 1, Batch 500, Loss: 0.3237224851548672\n",
            "Epoch 1, Batch 600, Loss: 0.29349912613630297\n",
            "Epoch 1, Batch 700, Loss: 0.2787782746553421\n",
            "Epoch 1, Batch 800, Loss: 0.25368869088590146\n",
            "Epoch 1, Batch 900, Loss: 0.2505707685649395\n",
            "Epoch 2, Batch 100, Loss: 0.24103565469384194\n",
            "Epoch 2, Batch 200, Loss: 0.19571945257484913\n",
            "Epoch 2, Batch 300, Loss: 0.20034818533807994\n",
            "Epoch 2, Batch 400, Loss: 0.20422308433800937\n",
            "Epoch 2, Batch 500, Loss: 0.18447681937366725\n",
            "Epoch 2, Batch 600, Loss: 0.18554109964519738\n",
            "Epoch 2, Batch 700, Loss: 0.17958620980381965\n",
            "Epoch 2, Batch 800, Loss: 0.16247320733964443\n",
            "Epoch 2, Batch 900, Loss: 0.15774462804198264\n",
            "Epoch 3, Batch 100, Loss: 0.15358144361525775\n",
            "Epoch 3, Batch 200, Loss: 0.13279574109241365\n",
            "Epoch 3, Batch 300, Loss: 0.15080777233466505\n",
            "Epoch 3, Batch 400, Loss: 0.153503635507077\n",
            "Epoch 3, Batch 500, Loss: 0.13344706658273936\n",
            "Epoch 3, Batch 600, Loss: 0.13384512774646282\n",
            "Epoch 3, Batch 700, Loss: 0.13212325006723405\n",
            "Epoch 3, Batch 800, Loss: 0.1385572854988277\n",
            "Epoch 3, Batch 900, Loss: 0.13354477196931838\n",
            "Epoch 4, Batch 100, Loss: 0.1196670019812882\n",
            "Epoch 4, Batch 200, Loss: 0.10601228213869035\n",
            "Epoch 4, Batch 300, Loss: 0.10808970691636205\n",
            "Epoch 4, Batch 400, Loss: 0.11264937222003937\n",
            "Epoch 4, Batch 500, Loss: 0.12325739706866443\n",
            "Epoch 4, Batch 600, Loss: 0.10701247801538556\n",
            "Epoch 4, Batch 700, Loss: 0.11192366005852819\n",
            "Epoch 4, Batch 800, Loss: 0.1125391411036253\n",
            "Epoch 4, Batch 900, Loss: 0.11449953133240343\n",
            "Epoch 5, Batch 100, Loss: 0.08267831226810812\n",
            "Epoch 5, Batch 200, Loss: 0.09695536069571972\n",
            "Epoch 5, Batch 300, Loss: 0.09535218760371209\n",
            "Epoch 5, Batch 400, Loss: 0.09431505337357521\n",
            "Epoch 5, Batch 500, Loss: 0.0967773072142154\n",
            "Epoch 5, Batch 600, Loss: 0.10397395427338779\n",
            "Epoch 5, Batch 700, Loss: 0.09048567364923656\n",
            "Epoch 5, Batch 800, Loss: 0.09213154821656644\n",
            "Epoch 5, Batch 900, Loss: 0.10293157188221812\n",
            "Finished Training\n",
            "Accuracy on test set: 0.9668166666666667\n"
          ]
        }
      ]
    },
    {
      "cell_type": "markdown",
      "source": [
        "Since the test accuracy differences between the three optimizers are minimal, RMSProp give the best result"
      ],
      "metadata": {
        "id": "rBpSQcJ1McZb"
      }
    },
    {
      "cell_type": "markdown",
      "source": [
        "## 2. Different Loss Function"
      ],
      "metadata": {
        "id": "6e3hyYAcRCqU"
      }
    },
    {
      "cell_type": "markdown",
      "source": [
        "### NLLLoss with RMS Optimizer"
      ],
      "metadata": {
        "id": "k7WeSro1MmIN"
      }
    },
    {
      "cell_type": "code",
      "source": [
        "import torch\n",
        "import torch.nn as nn\n",
        "\n",
        "# Define the neural network architecture with updated number of neurons\n",
        "class MLP(nn.Module):\n",
        "    def __init__(self):\n",
        "        super(MLP, self).__init__()\n",
        "        self.fc1 = nn.Linear(28 * 28, 128)  # Changed from 128 to 256 neurons\n",
        "        self.fc2 = nn.Linear(128, 64)       # Updated to match the new number of neurons\n",
        "        self.fc3 = nn.Linear(64, 10)\n",
        "\n",
        "    def forward(self, x):\n",
        "        x = x.view(-1, 28 * 28)\n",
        "        x = torch.relu(self.fc1(x))\n",
        "        x = torch.relu(self.fc2(x))\n",
        "        x = self.fc3(x)\n",
        "        return torch.log_softmax(x, dim=1)\n",
        "\n",
        "# Initialize the neural network\n",
        "model = MLP()\n",
        "\n",
        "\n",
        "# Define the loss function and optimizer\n",
        "criterion = nn.NLLLoss()\n",
        "optimizer = optim.RMSprop(model.parameters(), lr=0.001)\n",
        "\n",
        "# Train the neural network\n",
        "num_epochs = 5\n",
        "for epoch in range(num_epochs):\n",
        "    model.train()\n",
        "    running_loss = 0.0\n",
        "    for i, data in enumerate(train_loader, 0):\n",
        "        inputs, labels = data\n",
        "        optimizer.zero_grad()\n",
        "        outputs = model(inputs)\n",
        "        loss = criterion(outputs, labels)\n",
        "        loss.backward()\n",
        "        optimizer.step()\n",
        "        running_loss += loss.item()\n",
        "        if i % 100 == 99:  # print every 100 mini-batches\n",
        "            print(f'Epoch {epoch + 1}, Batch {i + 1}, Loss: {running_loss / 100}')\n",
        "            running_loss = 0.0\n",
        "\n",
        "print('Finished Training')\n",
        "\n",
        "# Evaluate the model\n",
        "model.eval()\n",
        "correct = 0\n",
        "total = 0\n",
        "with torch.no_grad():\n",
        "    for data in test_loader:\n",
        "        images, labels = data\n",
        "        outputs = model(images)\n",
        "        _, predicted = torch.max(outputs.data, 1)\n",
        "        total += labels.size(0)\n",
        "        correct += (predicted == labels).sum().item()\n",
        "\n",
        "print(f'Accuracy on test set: { correct / total}')"
      ],
      "metadata": {
        "colab": {
          "base_uri": "https://localhost:8080/"
        },
        "id": "rni3Aml2QgX9",
        "outputId": "f9333acf-791c-41f5-cdcf-d8a34a36bd9d"
      },
      "execution_count": 24,
      "outputs": [
        {
          "output_type": "stream",
          "name": "stdout",
          "text": [
            "Epoch 1, Batch 100, Loss: 1.0072036138176919\n",
            "Epoch 1, Batch 200, Loss: 0.4498357209563255\n",
            "Epoch 1, Batch 300, Loss: 0.36483227357268333\n",
            "Epoch 1, Batch 400, Loss: 0.3159330451488495\n",
            "Epoch 1, Batch 500, Loss: 0.292697311937809\n",
            "Epoch 1, Batch 600, Loss: 0.28126874685287473\n",
            "Epoch 1, Batch 700, Loss: 0.2692325457930565\n",
            "Epoch 1, Batch 800, Loss: 0.23458165101706982\n",
            "Epoch 1, Batch 900, Loss: 0.24223659437149764\n",
            "Epoch 2, Batch 100, Loss: 0.20465156521648167\n",
            "Epoch 2, Batch 200, Loss: 0.18506706960499286\n",
            "Epoch 2, Batch 300, Loss: 0.2029736078903079\n",
            "Epoch 2, Batch 400, Loss: 0.16979090869426727\n",
            "Epoch 2, Batch 500, Loss: 0.1756021811068058\n",
            "Epoch 2, Batch 600, Loss: 0.1774773783609271\n",
            "Epoch 2, Batch 700, Loss: 0.17362386088818313\n",
            "Epoch 2, Batch 800, Loss: 0.1507663419470191\n",
            "Epoch 2, Batch 900, Loss: 0.15370356112718583\n",
            "Epoch 3, Batch 100, Loss: 0.1383543248102069\n",
            "Epoch 3, Batch 200, Loss: 0.15402960665058343\n",
            "Epoch 3, Batch 300, Loss: 0.14159073427319527\n",
            "Epoch 3, Batch 400, Loss: 0.1404014165326953\n",
            "Epoch 3, Batch 500, Loss: 0.13038017077371478\n",
            "Epoch 3, Batch 600, Loss: 0.14200601257383824\n",
            "Epoch 3, Batch 700, Loss: 0.12990592037327586\n",
            "Epoch 3, Batch 800, Loss: 0.12393305541947484\n",
            "Epoch 3, Batch 900, Loss: 0.12443682896904647\n",
            "Epoch 4, Batch 100, Loss: 0.11268586596474052\n",
            "Epoch 4, Batch 200, Loss: 0.11907216170802712\n",
            "Epoch 4, Batch 300, Loss: 0.1073348641116172\n",
            "Epoch 4, Batch 400, Loss: 0.121953263040632\n",
            "Epoch 4, Batch 500, Loss: 0.12177390944212675\n",
            "Epoch 4, Batch 600, Loss: 0.10351660775952042\n",
            "Epoch 4, Batch 700, Loss: 0.10564315913245081\n",
            "Epoch 4, Batch 800, Loss: 0.11368292606901377\n",
            "Epoch 4, Batch 900, Loss: 0.11267066402360797\n",
            "Epoch 5, Batch 100, Loss: 0.09406171474605798\n",
            "Epoch 5, Batch 200, Loss: 0.09810009048320353\n",
            "Epoch 5, Batch 300, Loss: 0.09184638382866979\n",
            "Epoch 5, Batch 400, Loss: 0.08976216666400433\n",
            "Epoch 5, Batch 500, Loss: 0.10680008398368955\n",
            "Epoch 5, Batch 600, Loss: 0.09329487835988402\n",
            "Epoch 5, Batch 700, Loss: 0.10367139119189232\n",
            "Epoch 5, Batch 800, Loss: 0.09855956787243486\n",
            "Epoch 5, Batch 900, Loss: 0.08970317050814629\n",
            "Finished Training\n",
            "Accuracy on test set: 0.9654333333333334\n"
          ]
        }
      ]
    },
    {
      "cell_type": "markdown",
      "source": [
        "### NLLLoss with Adam Optimizer"
      ],
      "metadata": {
        "id": "r80cauoyPm2g"
      }
    },
    {
      "cell_type": "code",
      "source": [
        "import torch\n",
        "import torch.nn as nn\n",
        "\n",
        "# Define the neural network architecture with updated number of neurons\n",
        "class MLP(nn.Module):\n",
        "    def __init__(self):\n",
        "        super(MLP, self).__init__()\n",
        "        self.fc1 = nn.Linear(28 * 28, 128)  # Changed from 128 to 256 neurons\n",
        "        self.fc2 = nn.Linear(128, 64)       # Updated to match the new number of neurons\n",
        "        self.fc3 = nn.Linear(64, 10)\n",
        "\n",
        "    def forward(self, x):\n",
        "        x = x.view(-1, 28 * 28)\n",
        "        x = torch.relu(self.fc1(x))\n",
        "        x = torch.relu(self.fc2(x))\n",
        "        x = self.fc3(x)\n",
        "        return torch.log_softmax(x, dim=1)\n",
        "\n",
        "# Initialize the neural network\n",
        "model = MLP()\n",
        "\n",
        "\n",
        "# Define the loss function and optimizer\n",
        "criterion = nn.NLLLoss()\n",
        "optimizer = optim.Adam(model.parameters(), lr=0.001)\n",
        "\n",
        "\n",
        "# Train the neural network\n",
        "num_epochs = 5\n",
        "for epoch in range(num_epochs):\n",
        "    model.train()\n",
        "    running_loss = 0.0\n",
        "    for i, data in enumerate(train_loader, 0):\n",
        "        inputs, labels = data\n",
        "        optimizer.zero_grad()\n",
        "        outputs = model(inputs)\n",
        "        loss = criterion(outputs, labels)\n",
        "        loss.backward()\n",
        "        optimizer.step()\n",
        "        running_loss += loss.item()\n",
        "        if i % 100 == 99:  # print every 100 mini-batches\n",
        "            print(f'Epoch {epoch + 1}, Batch {i + 1}, Loss: {running_loss / 100}')\n",
        "            running_loss = 0.0\n",
        "\n",
        "print('Finished Training')\n",
        "\n",
        "# Evaluate the model\n",
        "model.eval()\n",
        "correct = 0\n",
        "total = 0\n",
        "with torch.no_grad():\n",
        "    for data in test_loader:\n",
        "        images, labels = data\n",
        "        outputs = model(images)\n",
        "        _, predicted = torch.max(outputs.data, 1)\n",
        "        total += labels.size(0)\n",
        "        correct += (predicted == labels).sum().item()\n",
        "\n",
        "print(f'Accuracy on test set: { correct / total}')"
      ],
      "metadata": {
        "colab": {
          "base_uri": "https://localhost:8080/"
        },
        "id": "wqPC8XFDStXz",
        "outputId": "ccd567bb-fd5c-4a16-a992-10a2c1be1753"
      },
      "execution_count": 23,
      "outputs": [
        {
          "output_type": "stream",
          "name": "stdout",
          "text": [
            "Epoch 1, Batch 100, Loss: 1.0519101271033287\n",
            "Epoch 1, Batch 200, Loss: 0.45283372193574906\n",
            "Epoch 1, Batch 300, Loss: 0.35246051236987114\n",
            "Epoch 1, Batch 400, Loss: 0.3664228904247284\n",
            "Epoch 1, Batch 500, Loss: 0.30768319383263587\n",
            "Epoch 1, Batch 600, Loss: 0.3025664329528809\n",
            "Epoch 1, Batch 700, Loss: 0.2817090856283903\n",
            "Epoch 1, Batch 800, Loss: 0.25462089642882346\n",
            "Epoch 1, Batch 900, Loss: 0.25709312841296195\n",
            "Epoch 2, Batch 100, Loss: 0.21035999789834023\n",
            "Epoch 2, Batch 200, Loss: 0.19490796361118556\n",
            "Epoch 2, Batch 300, Loss: 0.2104581209272146\n",
            "Epoch 2, Batch 400, Loss: 0.1934430769830942\n",
            "Epoch 2, Batch 500, Loss: 0.18642303831875323\n",
            "Epoch 2, Batch 600, Loss: 0.17370095621794462\n",
            "Epoch 2, Batch 700, Loss: 0.157994322180748\n",
            "Epoch 2, Batch 800, Loss: 0.16871990468353032\n",
            "Epoch 2, Batch 900, Loss: 0.18204358376562596\n",
            "Epoch 3, Batch 100, Loss: 0.14279728565365077\n",
            "Epoch 3, Batch 200, Loss: 0.15987961035221815\n",
            "Epoch 3, Batch 300, Loss: 0.14944653287529946\n",
            "Epoch 3, Batch 400, Loss: 0.13130557240918278\n",
            "Epoch 3, Batch 500, Loss: 0.139185329079628\n",
            "Epoch 3, Batch 600, Loss: 0.1408935852907598\n",
            "Epoch 3, Batch 700, Loss: 0.132071417812258\n",
            "Epoch 3, Batch 800, Loss: 0.13241073466837405\n",
            "Epoch 3, Batch 900, Loss: 0.12592948406934737\n",
            "Epoch 4, Batch 100, Loss: 0.10931198183447123\n",
            "Epoch 4, Batch 200, Loss: 0.10954821540042758\n",
            "Epoch 4, Batch 300, Loss: 0.1105431447736919\n",
            "Epoch 4, Batch 400, Loss: 0.1087343545537442\n",
            "Epoch 4, Batch 500, Loss: 0.10316439460031689\n",
            "Epoch 4, Batch 600, Loss: 0.11260981618426741\n",
            "Epoch 4, Batch 700, Loss: 0.11400272220373153\n",
            "Epoch 4, Batch 800, Loss: 0.11275426525622606\n",
            "Epoch 4, Batch 900, Loss: 0.10623246405273676\n",
            "Epoch 5, Batch 100, Loss: 0.08738063827157021\n",
            "Epoch 5, Batch 200, Loss: 0.08942031059414149\n",
            "Epoch 5, Batch 300, Loss: 0.10399991400539875\n",
            "Epoch 5, Batch 400, Loss: 0.09241407149937003\n",
            "Epoch 5, Batch 500, Loss: 0.08668732656165958\n",
            "Epoch 5, Batch 600, Loss: 0.09258097636513413\n",
            "Epoch 5, Batch 700, Loss: 0.09486905109137296\n",
            "Epoch 5, Batch 800, Loss: 0.08882058191113174\n",
            "Epoch 5, Batch 900, Loss: 0.08697289668023586\n",
            "Finished Training\n",
            "Accuracy on test set: 0.9673166666666667\n"
          ]
        }
      ]
    },
    {
      "cell_type": "markdown",
      "source": [
        "The model performs slightly better with the Adam optimizer (96.73% accuracy) compared to RMSprop (96.54% accuracy) when using NLLLoss, suggesting that Adam's adaptive learning rate may be more effective for this task."
      ],
      "metadata": {
        "id": "GE0kN_XoSwaU"
      }
    },
    {
      "cell_type": "markdown",
      "source": [
        "## 3. Adding Dropout Layers"
      ],
      "metadata": {
        "id": "Q5XxzphGTXQz"
      }
    },
    {
      "cell_type": "code",
      "source": [
        "class MLP(nn.Module):\n",
        "    def __init__(self):\n",
        "        super(MLP, self).__init__()\n",
        "        self.fc1 = nn.Linear(28 * 28, 128)\n",
        "        self.dropout1 = nn.Dropout(0.5)  # 50% Dropout after the first layer\n",
        "        self.fc2 = nn.Linear(128, 64)\n",
        "        self.dropout2 = nn.Dropout(0.5)  # 50% Dropout after the second layer\n",
        "        self.fc3 = nn.Linear(64, 10)\n",
        "\n",
        "    def forward(self, x):\n",
        "        x = x.view(-1, 28 * 28)\n",
        "        x = torch.relu(self.fc1(x))\n",
        "        x = self.dropout1(x)  # Apply dropout after the first layer\n",
        "        x = torch.relu(self.fc2(x))\n",
        "        x = self.dropout2(x)  # Apply dropout after the second layer\n",
        "        x = self.fc3(x)\n",
        "        return x\n",
        "\n",
        "# Initialize the neural network\n",
        "model = MLP()\n",
        "\n",
        "\n",
        "\n",
        "# Define the loss function and optimizer\n",
        "criterion = nn.CrossEntropyLoss()\n",
        "optimizer = optim.Adam(model.parameters(), lr=0.001)\n",
        "\n",
        "# Train the neural network\n",
        "num_epochs = 5\n",
        "for epoch in range(num_epochs):\n",
        "    model.train()\n",
        "    running_loss = 0.0\n",
        "    for i, data in enumerate(train_loader, 0):\n",
        "        inputs, labels = data\n",
        "        optimizer.zero_grad()\n",
        "        outputs = model(inputs)\n",
        "        loss = criterion(outputs, labels)\n",
        "        loss.backward()\n",
        "        optimizer.step()\n",
        "        running_loss += loss.item()\n",
        "        if i % 100 == 99:  # print every 100 mini-batches\n",
        "            print(f'Epoch {epoch + 1}, Batch {i + 1}, Loss: {running_loss / 100}')\n",
        "            running_loss = 0.0\n",
        "\n",
        "print('Finished Training')\n",
        "\n",
        "# Evaluate the model\n",
        "model.eval()\n",
        "correct = 0\n",
        "total = 0\n",
        "with torch.no_grad():\n",
        "    for data in test_loader:\n",
        "        images, labels = data\n",
        "        outputs = model(images)\n",
        "        _, predicted = torch.max(outputs.data, 1)\n",
        "        total += labels.size(0)\n",
        "        correct += (predicted == labels).sum().item()\n",
        "\n",
        "print(f'Accuracy on test set: { correct / total}')"
      ],
      "metadata": {
        "colab": {
          "base_uri": "https://localhost:8080/"
        },
        "id": "j7N9sw4SThYx",
        "outputId": "f29abe1d-cf80-4260-fbc8-cd8ee297d4b5"
      },
      "execution_count": 26,
      "outputs": [
        {
          "output_type": "stream",
          "name": "stdout",
          "text": [
            "Epoch 1, Batch 100, Loss: 1.7102178347110748\n",
            "Epoch 1, Batch 200, Loss: 1.007952932715416\n",
            "Epoch 1, Batch 300, Loss: 0.7640428423881531\n",
            "Epoch 1, Batch 400, Loss: 0.6995948776602745\n",
            "Epoch 1, Batch 500, Loss: 0.6201365250349045\n",
            "Epoch 1, Batch 600, Loss: 0.6069484025239944\n",
            "Epoch 1, Batch 700, Loss: 0.584265248477459\n",
            "Epoch 1, Batch 800, Loss: 0.5556141811609269\n",
            "Epoch 1, Batch 900, Loss: 0.5487004169821739\n",
            "Epoch 2, Batch 100, Loss: 0.5388127228617668\n",
            "Epoch 2, Batch 200, Loss: 0.501519932448864\n",
            "Epoch 2, Batch 300, Loss: 0.5060207936167717\n",
            "Epoch 2, Batch 400, Loss: 0.5020092368125916\n",
            "Epoch 2, Batch 500, Loss: 0.4810940377414227\n",
            "Epoch 2, Batch 600, Loss: 0.4648394148051739\n",
            "Epoch 2, Batch 700, Loss: 0.46294610008597376\n",
            "Epoch 2, Batch 800, Loss: 0.4750521358847618\n",
            "Epoch 2, Batch 900, Loss: 0.46281621426343916\n",
            "Epoch 3, Batch 100, Loss: 0.4639094650745392\n",
            "Epoch 3, Batch 200, Loss: 0.4456281998753548\n",
            "Epoch 3, Batch 300, Loss: 0.43509199351072314\n",
            "Epoch 3, Batch 400, Loss: 0.4306303994357586\n",
            "Epoch 3, Batch 500, Loss: 0.45071079328656194\n",
            "Epoch 3, Batch 600, Loss: 0.4317814803123474\n",
            "Epoch 3, Batch 700, Loss: 0.42545499667525294\n",
            "Epoch 3, Batch 800, Loss: 0.44171801418066026\n",
            "Epoch 3, Batch 900, Loss: 0.41494804710149763\n",
            "Epoch 4, Batch 100, Loss: 0.43629186153411864\n",
            "Epoch 4, Batch 200, Loss: 0.411469716578722\n",
            "Epoch 4, Batch 300, Loss: 0.41324253916740417\n",
            "Epoch 4, Batch 400, Loss: 0.40618480294942855\n",
            "Epoch 4, Batch 500, Loss: 0.42762923970818517\n",
            "Epoch 4, Batch 600, Loss: 0.4098933233320713\n",
            "Epoch 4, Batch 700, Loss: 0.4001079601049423\n",
            "Epoch 4, Batch 800, Loss: 0.39580850481987\n",
            "Epoch 4, Batch 900, Loss: 0.4046290600299835\n",
            "Epoch 5, Batch 100, Loss: 0.4127791474759579\n",
            "Epoch 5, Batch 200, Loss: 0.39686306439340113\n",
            "Epoch 5, Batch 300, Loss: 0.403711593747139\n",
            "Epoch 5, Batch 400, Loss: 0.3823320420086384\n",
            "Epoch 5, Batch 500, Loss: 0.3968025463819504\n",
            "Epoch 5, Batch 600, Loss: 0.36601154327392577\n",
            "Epoch 5, Batch 700, Loss: 0.3766483747959137\n",
            "Epoch 5, Batch 800, Loss: 0.3781392127275467\n",
            "Epoch 5, Batch 900, Loss: 0.3688405130803585\n",
            "Finished Training\n",
            "Accuracy on test set: 0.9356\n"
          ]
        }
      ]
    },
    {
      "cell_type": "markdown",
      "source": [
        "The accuracy drop after adding dropout is likely due to too much regularization (high dropout rate) or the model requiring more time to adapt to the dropout's impact."
      ],
      "metadata": {
        "id": "ZDccZOYdXqoS"
      }
    },
    {
      "cell_type": "code",
      "source": [
        "class MLP(nn.Module):\n",
        "    def __init__(self):\n",
        "        super(MLP, self).__init__()\n",
        "        self.fc1 = nn.Linear(28 * 28, 128)\n",
        "        self.dropout1 = nn.Dropout(0.3)  # 50% Dropout after the first layer\n",
        "        self.fc2 = nn.Linear(128, 64)\n",
        "        self.dropout2 = nn.Dropout(0.3)  # 50% Dropout after the second layer\n",
        "        self.fc3 = nn.Linear(64, 10)\n",
        "\n",
        "    def forward(self, x):\n",
        "        x = x.view(-1, 28 * 28)\n",
        "        x = torch.relu(self.fc1(x))\n",
        "        x = self.dropout1(x)  # Apply dropout after the first layer\n",
        "        x = torch.relu(self.fc2(x))\n",
        "        x = self.dropout2(x)  # Apply dropout after the second layer\n",
        "        x = self.fc3(x)\n",
        "        return x\n",
        "\n",
        "# Initialize the neural network\n",
        "model = MLP()\n",
        "\n",
        "\n",
        "\n",
        "# Define the loss function and optimizer\n",
        "criterion = nn.CrossEntropyLoss()\n",
        "optimizer = optim.Adam(model.parameters(), lr=0.001)\n",
        "\n",
        "# Train the neural network\n",
        "num_epochs = 5\n",
        "for epoch in range(num_epochs):\n",
        "    model.train()\n",
        "    running_loss = 0.0\n",
        "    for i, data in enumerate(train_loader, 0):\n",
        "        inputs, labels = data\n",
        "        optimizer.zero_grad()\n",
        "        outputs = model(inputs)\n",
        "        loss = criterion(outputs, labels)\n",
        "        loss.backward()\n",
        "        optimizer.step()\n",
        "        running_loss += loss.item()\n",
        "        if i % 100 == 99:  # print every 100 mini-batches\n",
        "            print(f'Epoch {epoch + 1}, Batch {i + 1}, Loss: {running_loss / 100}')\n",
        "            running_loss = 0.0\n",
        "\n",
        "print('Finished Training')\n",
        "\n",
        "# Evaluate the model\n",
        "model.eval()\n",
        "correct = 0\n",
        "total = 0\n",
        "with torch.no_grad():\n",
        "    for data in test_loader:\n",
        "        images, labels = data\n",
        "        outputs = model(images)\n",
        "        _, predicted = torch.max(outputs.data, 1)\n",
        "        total += labels.size(0)\n",
        "        correct += (predicted == labels).sum().item()\n",
        "\n",
        "print(f'Accuracy on test set: { correct / total}')"
      ],
      "metadata": {
        "colab": {
          "base_uri": "https://localhost:8080/"
        },
        "id": "_Xc5Q7vVTsCP",
        "outputId": "09bba4b1-b412-43ff-c3cb-073ffb581a86"
      },
      "execution_count": 29,
      "outputs": [
        {
          "output_type": "stream",
          "name": "stdout",
          "text": [
            "Epoch 1, Batch 100, Loss: 1.3410533702373504\n",
            "Epoch 1, Batch 200, Loss: 0.6756048628687858\n",
            "Epoch 1, Batch 300, Loss: 0.5462661269307136\n",
            "Epoch 1, Batch 400, Loss: 0.49923954099416734\n",
            "Epoch 1, Batch 500, Loss: 0.44561885073781016\n",
            "Epoch 1, Batch 600, Loss: 0.4136417417228222\n",
            "Epoch 1, Batch 700, Loss: 0.3850753016769886\n",
            "Epoch 1, Batch 800, Loss: 0.3541193294525147\n",
            "Epoch 1, Batch 900, Loss: 0.35866860128939154\n",
            "Epoch 2, Batch 100, Loss: 0.3453838312625885\n",
            "Epoch 2, Batch 200, Loss: 0.3375104331970215\n",
            "Epoch 2, Batch 300, Loss: 0.3318309915065765\n",
            "Epoch 2, Batch 400, Loss: 0.3105008882284164\n",
            "Epoch 2, Batch 500, Loss: 0.30500393435359\n",
            "Epoch 2, Batch 600, Loss: 0.28989491701126097\n",
            "Epoch 2, Batch 700, Loss: 0.2755699717998505\n",
            "Epoch 2, Batch 800, Loss: 0.3010988166928291\n",
            "Epoch 2, Batch 900, Loss: 0.2764510227739811\n",
            "Epoch 3, Batch 100, Loss: 0.2681877402961254\n",
            "Epoch 3, Batch 200, Loss: 0.2566530752182007\n",
            "Epoch 3, Batch 300, Loss: 0.26108471244573594\n",
            "Epoch 3, Batch 400, Loss: 0.26358256563544274\n",
            "Epoch 3, Batch 500, Loss: 0.2607868381589651\n",
            "Epoch 3, Batch 600, Loss: 0.25744562353938816\n",
            "Epoch 3, Batch 700, Loss: 0.26437271617352964\n",
            "Epoch 3, Batch 800, Loss: 0.2295036144927144\n",
            "Epoch 3, Batch 900, Loss: 0.2584774015843868\n",
            "Epoch 4, Batch 100, Loss: 0.23934007965028287\n",
            "Epoch 4, Batch 200, Loss: 0.2207988827675581\n",
            "Epoch 4, Batch 300, Loss: 0.23379659585654736\n",
            "Epoch 4, Batch 400, Loss: 0.23319565504789352\n",
            "Epoch 4, Batch 500, Loss: 0.22169765282422305\n",
            "Epoch 4, Batch 600, Loss: 0.21734740495681762\n",
            "Epoch 4, Batch 700, Loss: 0.2642008790373802\n",
            "Epoch 4, Batch 800, Loss: 0.22937067195773125\n",
            "Epoch 4, Batch 900, Loss: 0.2139370733872056\n",
            "Epoch 5, Batch 100, Loss: 0.21386342789977789\n",
            "Epoch 5, Batch 200, Loss: 0.2167218604683876\n",
            "Epoch 5, Batch 300, Loss: 0.20885946974158287\n",
            "Epoch 5, Batch 400, Loss: 0.21448420483618974\n",
            "Epoch 5, Batch 500, Loss: 0.22811570893973113\n",
            "Epoch 5, Batch 600, Loss: 0.22011653810739518\n",
            "Epoch 5, Batch 700, Loss: 0.20543797638267278\n",
            "Epoch 5, Batch 800, Loss: 0.2186556227505207\n",
            "Epoch 5, Batch 900, Loss: 0.21926029339432718\n",
            "Finished Training\n",
            "Accuracy on test set: 0.95985\n"
          ]
        }
      ]
    },
    {
      "cell_type": "markdown",
      "source": [
        "### Leaky Relu Activation Function"
      ],
      "metadata": {
        "id": "6CzQfQuZTfEC"
      }
    },
    {
      "cell_type": "code",
      "source": [
        "import torch.nn.functional as F\n",
        "\n",
        "class MLP(nn.Module):\n",
        "    def __init__(self):\n",
        "        super(MLP, self).__init__()\n",
        "        self.fc1 = nn.Linear(28 * 28, 256)\n",
        "        self.dropout1 = nn.Dropout(0.3)  # 50% Dropout after the first layer\n",
        "        self.fc2 = nn.Linear(256, 64)\n",
        "        self.dropout2 = nn.Dropout(0.3)  # 50% Dropout after the second layer\n",
        "        self.fc3 = nn.Linear(64, 10)\n",
        "\n",
        "    def forward(self, x):\n",
        "        x = x.view(-1, 28 * 28)\n",
        "        x = F.leaky_relu(self.fc1(x), negative_slope=0.01)  # Apply Leaky ReLU with a negative slope of 0.01\n",
        "        x = self.dropout1(x)  # Apply dropout after the first layer\n",
        "        x = F.leaky_relu(self.fc2(x), negative_slope=0.01)  # Apply Leaky ReLU with a negative slope of 0.01\n",
        "        x = self.dropout2(x)  # Apply dropout after the second layer\n",
        "        x = self.fc3(x)\n",
        "        return x\n",
        "\n",
        "# Initialize the neural network\n",
        "model = MLP()\n",
        "\n",
        "\n",
        "\n",
        "# Define the loss function and optimizer\n",
        "criterion = nn.CrossEntropyLoss()\n",
        "optimizer = optim.Adam(model.parameters(), lr=0.001, weight_decay=0.01)  # L2 regularization\n",
        "# Train the neural network\n",
        "num_epochs = 5\n",
        "for epoch in range(num_epochs):\n",
        "    model.train()\n",
        "    running_loss = 0.0\n",
        "    for i, data in enumerate(train_loader, 0):\n",
        "        inputs, labels = data\n",
        "        optimizer.zero_grad()\n",
        "        outputs = model(inputs)\n",
        "        loss = criterion(outputs, labels)\n",
        "        loss.backward()\n",
        "        optimizer.step()\n",
        "        running_loss += loss.item()\n",
        "        if i % 100 == 99:  # print every 100 mini-batches\n",
        "            print(f'Epoch {epoch + 1}, Batch {i + 1}, Loss: {running_loss / 100}')\n",
        "            running_loss = 0.0\n",
        "\n",
        "print('Finished Training')\n",
        "\n",
        "# Evaluate the model\n",
        "model.eval()\n",
        "correct = 0\n",
        "total = 0\n",
        "with torch.no_grad():\n",
        "    for data in test_loader:\n",
        "        images, labels = data\n",
        "        outputs = model(images)\n",
        "        _, predicted = torch.max(outputs.data, 1)\n",
        "        total += labels.size(0)\n",
        "        correct += (predicted == labels).sum().item()\n",
        "\n",
        "print(f'Accuracy on test set: { correct / total}')"
      ],
      "metadata": {
        "colab": {
          "base_uri": "https://localhost:8080/"
        },
        "id": "sQpsnU5QfpLb",
        "outputId": "c455a055-1498-4285-deb6-3873f8164631"
      },
      "execution_count": 30,
      "outputs": [
        {
          "output_type": "stream",
          "name": "stdout",
          "text": [
            "Epoch 1, Batch 100, Loss: 1.2157650351524354\n",
            "Epoch 1, Batch 200, Loss: 0.6208386504650116\n",
            "Epoch 1, Batch 300, Loss: 0.5401927003264427\n",
            "Epoch 1, Batch 400, Loss: 0.4797400715947151\n",
            "Epoch 1, Batch 500, Loss: 0.44636751487851145\n",
            "Epoch 1, Batch 600, Loss: 0.4436462412774563\n",
            "Epoch 1, Batch 700, Loss: 0.45231898337602616\n",
            "Epoch 1, Batch 800, Loss: 0.4292633493244648\n",
            "Epoch 1, Batch 900, Loss: 0.42081716760993004\n",
            "Epoch 2, Batch 100, Loss: 0.41417746752500534\n",
            "Epoch 2, Batch 200, Loss: 0.3789195428788662\n",
            "Epoch 2, Batch 300, Loss: 0.3986369444429874\n",
            "Epoch 2, Batch 400, Loss: 0.39017951592803\n",
            "Epoch 2, Batch 500, Loss: 0.3842410919070244\n",
            "Epoch 2, Batch 600, Loss: 0.37588257968425753\n",
            "Epoch 2, Batch 700, Loss: 0.3782647348940372\n",
            "Epoch 2, Batch 800, Loss: 0.3806031005084515\n",
            "Epoch 2, Batch 900, Loss: 0.36548017248511316\n",
            "Epoch 3, Batch 100, Loss: 0.37443740651011465\n",
            "Epoch 3, Batch 200, Loss: 0.3674711473286152\n",
            "Epoch 3, Batch 300, Loss: 0.3494153770804405\n",
            "Epoch 3, Batch 400, Loss: 0.37233939692378043\n",
            "Epoch 3, Batch 500, Loss: 0.35251204937696456\n",
            "Epoch 3, Batch 600, Loss: 0.38874028354883194\n",
            "Epoch 3, Batch 700, Loss: 0.37565493151545526\n",
            "Epoch 3, Batch 800, Loss: 0.37662789136171343\n",
            "Epoch 3, Batch 900, Loss: 0.35865203306078913\n",
            "Epoch 4, Batch 100, Loss: 0.34078519478440283\n",
            "Epoch 4, Batch 200, Loss: 0.3649077133834362\n",
            "Epoch 4, Batch 300, Loss: 0.3634020335972309\n",
            "Epoch 4, Batch 400, Loss: 0.37062439367175104\n",
            "Epoch 4, Batch 500, Loss: 0.3635872332751751\n",
            "Epoch 4, Batch 600, Loss: 0.3481207332015038\n",
            "Epoch 4, Batch 700, Loss: 0.3458546628057957\n",
            "Epoch 4, Batch 800, Loss: 0.3526043075323105\n",
            "Epoch 4, Batch 900, Loss: 0.3508849070966244\n",
            "Epoch 5, Batch 100, Loss: 0.3478364977240562\n",
            "Epoch 5, Batch 200, Loss: 0.34876102343201637\n",
            "Epoch 5, Batch 300, Loss: 0.3669119949638844\n",
            "Epoch 5, Batch 400, Loss: 0.3429544699192047\n",
            "Epoch 5, Batch 500, Loss: 0.35611850291490554\n",
            "Epoch 5, Batch 600, Loss: 0.35729455545544625\n",
            "Epoch 5, Batch 700, Loss: 0.3335886883735657\n",
            "Epoch 5, Batch 800, Loss: 0.3464509865641594\n",
            "Epoch 5, Batch 900, Loss: 0.3497178067266941\n",
            "Finished Training\n",
            "Accuracy on test set: 0.9213333333333333\n"
          ]
        }
      ]
    },
    {
      "cell_type": "markdown",
      "source": [
        "### ELU Activation Function"
      ],
      "metadata": {
        "id": "fGzdDgfpalOg"
      }
    },
    {
      "cell_type": "code",
      "source": [
        "import torch\n",
        "import torch.nn as nn\n",
        "import torch.nn.functional as F\n",
        "\n",
        "class MLP(nn.Module):\n",
        "    def __init__(self):\n",
        "        super(MLP, self).__init__()\n",
        "        self.fc1 = nn.Linear(28 * 28, 256)\n",
        "        self.dropout1 = nn.Dropout(0.5)  # 50% Dropout after the first layer\n",
        "        self.fc2 = nn.Linear(256, 64)\n",
        "        self.dropout2 = nn.Dropout(0.5)  # 50% Dropout after the second layer\n",
        "        self.fc3 = nn.Linear(64, 10)\n",
        "\n",
        "    def forward(self, x):\n",
        "        x = x.view(-1, 28 * 28)\n",
        "        # Apply ELU activation function\n",
        "        x = F.elu(self.fc1(x), alpha=1.0)  # alpha is the ELU parameter; default is 1.0\n",
        "        x = self.dropout1(x)  # Apply dropout after the first layer\n",
        "        x = F.elu(self.fc2(x), alpha=1.0)  # Apply ELU again with alpha=1.0\n",
        "        x = self.dropout2(x)  # Apply dropout after the second layer\n",
        "        x = self.fc3(x)\n",
        "        return x\n",
        "\n",
        "# Initialize the neural network\n",
        "model = MLP()\n",
        "\n",
        "\n",
        "\n",
        "# Define the loss function and optimizer\n",
        "criterion = nn.CrossEntropyLoss()\n",
        "optimizer = optim.Adam(model.parameters(), lr=0.001, weight_decay=0.01)  # L2 regularization\n",
        "# Train the neural network\n",
        "num_epochs = 5\n",
        "for epoch in range(num_epochs):\n",
        "    model.train()\n",
        "    running_loss = 0.0\n",
        "    for i, data in enumerate(train_loader, 0):\n",
        "        inputs, labels = data\n",
        "        optimizer.zero_grad()\n",
        "        outputs = model(inputs)\n",
        "        loss = criterion(outputs, labels)\n",
        "        loss.backward()\n",
        "        optimizer.step()\n",
        "        running_loss += loss.item()\n",
        "        if i % 100 == 99:  # print every 100 mini-batches\n",
        "            print(f'Epoch {epoch + 1}, Batch {i + 1}, Loss: {running_loss / 100}')\n",
        "            running_loss = 0.0\n",
        "\n",
        "print('Finished Training')\n",
        "\n",
        "# Evaluate the model\n",
        "model.eval()\n",
        "correct = 0\n",
        "total = 0\n",
        "with torch.no_grad():\n",
        "    for data in test_loader:\n",
        "        images, labels = data\n",
        "        outputs = model(images)\n",
        "        _, predicted = torch.max(outputs.data, 1)\n",
        "        total += labels.size(0)\n",
        "        correct += (predicted == labels).sum().item()\n",
        "\n",
        "print(f'Accuracy on test set: { correct / total}')\n"
      ],
      "metadata": {
        "id": "CJNRJxDjh04j",
        "colab": {
          "base_uri": "https://localhost:8080/"
        },
        "outputId": "e27e642f-3040-4308-92f7-f914685d294d"
      },
      "execution_count": 31,
      "outputs": [
        {
          "output_type": "stream",
          "name": "stdout",
          "text": [
            "Epoch 1, Batch 100, Loss: 1.1445147824287414\n",
            "Epoch 1, Batch 200, Loss: 0.6529223796725273\n",
            "Epoch 1, Batch 300, Loss: 0.5899612015485763\n",
            "Epoch 1, Batch 400, Loss: 0.5340283113718033\n",
            "Epoch 1, Batch 500, Loss: 0.5366106387972832\n",
            "Epoch 1, Batch 600, Loss: 0.5372053039073944\n",
            "Epoch 1, Batch 700, Loss: 0.48952288314700126\n",
            "Epoch 1, Batch 800, Loss: 0.49102840304374695\n",
            "Epoch 1, Batch 900, Loss: 0.49364613473415375\n",
            "Epoch 2, Batch 100, Loss: 0.4546696476638317\n",
            "Epoch 2, Batch 200, Loss: 0.48803925022482875\n",
            "Epoch 2, Batch 300, Loss: 0.4492187391221523\n",
            "Epoch 2, Batch 400, Loss: 0.47791764527559283\n",
            "Epoch 2, Batch 500, Loss: 0.4889053076505661\n",
            "Epoch 2, Batch 600, Loss: 0.4777873355150223\n",
            "Epoch 2, Batch 700, Loss: 0.45948525503277776\n",
            "Epoch 2, Batch 800, Loss: 0.45389839068055154\n",
            "Epoch 2, Batch 900, Loss: 0.4721662750840187\n",
            "Epoch 3, Batch 100, Loss: 0.43178520888090133\n",
            "Epoch 3, Batch 200, Loss: 0.44664207950234414\n",
            "Epoch 3, Batch 300, Loss: 0.4599326401948929\n",
            "Epoch 3, Batch 400, Loss: 0.46762172877788544\n",
            "Epoch 3, Batch 500, Loss: 0.437124148607254\n",
            "Epoch 3, Batch 600, Loss: 0.4455195114016533\n",
            "Epoch 3, Batch 700, Loss: 0.4328997775912285\n",
            "Epoch 3, Batch 800, Loss: 0.4602380545437336\n",
            "Epoch 3, Batch 900, Loss: 0.45957455188035967\n",
            "Epoch 4, Batch 100, Loss: 0.47975925743579867\n",
            "Epoch 4, Batch 200, Loss: 0.46574866622686384\n",
            "Epoch 4, Batch 300, Loss: 0.4337272471189499\n",
            "Epoch 4, Batch 400, Loss: 0.45000534504652023\n",
            "Epoch 4, Batch 500, Loss: 0.44658812940120696\n",
            "Epoch 4, Batch 600, Loss: 0.4489438608288765\n",
            "Epoch 4, Batch 700, Loss: 0.4430339595675468\n",
            "Epoch 4, Batch 800, Loss: 0.436362491697073\n",
            "Epoch 4, Batch 900, Loss: 0.4340198791027069\n",
            "Epoch 5, Batch 100, Loss: 0.4371902549266815\n",
            "Epoch 5, Batch 200, Loss: 0.43902864143252374\n",
            "Epoch 5, Batch 300, Loss: 0.44967891439795493\n",
            "Epoch 5, Batch 400, Loss: 0.44872598588466645\n",
            "Epoch 5, Batch 500, Loss: 0.43192904636263846\n",
            "Epoch 5, Batch 600, Loss: 0.4331015054881573\n",
            "Epoch 5, Batch 700, Loss: 0.44883295491337777\n",
            "Epoch 5, Batch 800, Loss: 0.39841938227415086\n",
            "Epoch 5, Batch 900, Loss: 0.4425368058681488\n",
            "Finished Training\n",
            "Accuracy on test set: 0.9012\n"
          ]
        }
      ]
    },
    {
      "cell_type": "markdown",
      "source": [
        "ReLU Outperforms Both ELU and Leaky ReLU:\n",
        "\n",
        "The model achieves the highest accuracy with the ReLU activation function (93.56%). This suggests that ReLU is the most effective activation function for  current model and dataset among the three tested.\n",
        "\n",
        "Leaky ReLU Performs Better Than ELU:\n",
        "\n",
        "Leaky ReLU achieves a higher accuracy (92.13%) compared to ELU (90.12%). This indicates that allowing a small gradient for negative inputs (as in Leaky ReLU) is more effective for the model than the exponential approach of ELU.\n",
        "\n",
        "ELU Shows Lower Accuracy:\n",
        "\n",
        "The ELU activation function results in the lowest test accuracy (90.12%). This suggests that, for this specific dataset and model architecture, ELU may not be as effective as ReLU or Leaky ReLU. ELU's characteristic of allowing outputs to be negative may not be benefiting the model in this case."
      ],
      "metadata": {
        "id": "3YzclIfxbHVC"
      }
    }
  ],
  "metadata": {
    "kernelspec": {
      "display_name": "Python 3",
      "name": "python3"
    },
    "language_info": {
      "codemirror_mode": {
        "name": "ipython",
        "version": 3
      },
      "file_extension": ".py",
      "mimetype": "text/x-python",
      "name": "python",
      "nbconvert_exporter": "python",
      "pygments_lexer": "ipython3",
      "version": "3.10.13"
    },
    "colab": {
      "provenance": []
    }
  },
  "nbformat": 4,
  "nbformat_minor": 0
}