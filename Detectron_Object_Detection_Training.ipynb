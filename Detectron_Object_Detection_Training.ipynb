{
  "nbformat": 4,
  "nbformat_minor": 0,
  "metadata": {
    "colab": {
      "provenance": [],
      "gpuType": "T4"
    },
    "kernelspec": {
      "name": "python3",
      "display_name": "Python 3"
    },
    "language_info": {
      "name": "python"
    },
    "accelerator": "GPU"
  },
  "cells": [
    {
      "cell_type": "markdown",
      "source": [
        "## Part 2 Detectron"
      ],
      "metadata": {
        "id": "BY23FlqkJruX"
      }
    },
    {
      "cell_type": "markdown",
      "source": [
        "Importing Libraries and Cloning Detectron"
      ],
      "metadata": {
        "id": "pRuDtrrsKVjT"
      }
    },
    {
      "cell_type": "code",
      "execution_count": 1,
      "metadata": {
        "colab": {
          "base_uri": "https://localhost:8080/"
        },
        "id": "R4IYToq3s-M_",
        "outputId": "c021a697-19a3-4a46-d228-4fcae0b1cd8f"
      },
      "outputs": [
        {
          "output_type": "stream",
          "name": "stdout",
          "text": [
            "Collecting pyyaml==5.1\n",
            "  Downloading PyYAML-5.1.tar.gz (274 kB)\n",
            "\u001b[?25l     \u001b[90m━━━━━━━━━━━━━━━━━━━━━━━━━━━━━━━━━━━━━━━━\u001b[0m \u001b[32m0.0/274.2 kB\u001b[0m \u001b[31m?\u001b[0m eta \u001b[36m-:--:--\u001b[0m\r\u001b[2K     \u001b[91m━━━━━━━━━━━━━━━━━━━━━━━━━━━━━━━━━━━━━━\u001b[0m\u001b[91m╸\u001b[0m\u001b[90m━\u001b[0m \u001b[32m266.2/274.2 kB\u001b[0m \u001b[31m12.7 MB/s\u001b[0m eta \u001b[36m0:00:01\u001b[0m\r\u001b[2K     \u001b[90m━━━━━━━━━━━━━━━━━━━━━━━━━━━━━━━━━━━━━━━━\u001b[0m \u001b[32m274.2/274.2 kB\u001b[0m \u001b[31m6.4 MB/s\u001b[0m eta \u001b[36m0:00:00\u001b[0m\n",
            "\u001b[?25h  \u001b[1;31merror\u001b[0m: \u001b[1msubprocess-exited-with-error\u001b[0m\n",
            "  \n",
            "  \u001b[31m×\u001b[0m \u001b[32mpython setup.py egg_info\u001b[0m did not run successfully.\n",
            "  \u001b[31m│\u001b[0m exit code: \u001b[1;36m1\u001b[0m\n",
            "  \u001b[31m╰─>\u001b[0m See above for output.\n",
            "  \n",
            "  \u001b[1;35mnote\u001b[0m: This error originates from a subprocess, and is likely not a problem with pip.\n",
            "  Preparing metadata (setup.py) ... \u001b[?25l\u001b[?25herror\n",
            "\u001b[1;31merror\u001b[0m: \u001b[1mmetadata-generation-failed\u001b[0m\n",
            "\n",
            "\u001b[31m×\u001b[0m Encountered error while generating package metadata.\n",
            "\u001b[31m╰─>\u001b[0m See above for output.\n",
            "\n",
            "\u001b[1;35mnote\u001b[0m: This is an issue with the package mentioned above, not pip.\n",
            "\u001b[1;36mhint\u001b[0m: See above for details.\n",
            "Cloning into 'detectron2'...\n",
            "remote: Enumerating objects: 15777, done.\u001b[K\n",
            "remote: Counting objects: 100% (34/34), done.\u001b[K\n",
            "remote: Compressing objects: 100% (30/30), done.\u001b[K\n",
            "remote: Total 15777 (delta 7), reused 21 (delta 4), pack-reused 15743 (from 1)\u001b[K\n",
            "Receiving objects: 100% (15777/15777), 6.36 MiB | 7.57 MiB/s, done.\n",
            "Resolving deltas: 100% (11499/11499), done.\n",
            "Ignoring dataclasses: markers 'python_version < \"3.7\"' don't match your environment\n",
            "Requirement already satisfied: Pillow>=7.1 in /usr/local/lib/python3.10/dist-packages (10.4.0)\n",
            "Requirement already satisfied: matplotlib in /usr/local/lib/python3.10/dist-packages (3.7.1)\n",
            "Requirement already satisfied: pycocotools>=2.0.2 in /usr/local/lib/python3.10/dist-packages (2.0.8)\n",
            "Requirement already satisfied: termcolor>=1.1 in /usr/local/lib/python3.10/dist-packages (2.4.0)\n",
            "Collecting yacs>=0.1.8\n",
            "  Downloading yacs-0.1.8-py3-none-any.whl.metadata (639 bytes)\n",
            "Requirement already satisfied: tabulate in /usr/local/lib/python3.10/dist-packages (0.9.0)\n",
            "Requirement already satisfied: cloudpickle in /usr/local/lib/python3.10/dist-packages (2.2.1)\n",
            "Requirement already satisfied: tqdm>4.29.0 in /usr/local/lib/python3.10/dist-packages (4.66.5)\n",
            "Requirement already satisfied: tensorboard in /usr/local/lib/python3.10/dist-packages (2.17.0)\n",
            "Collecting fvcore<0.1.6,>=0.1.5\n",
            "  Downloading fvcore-0.1.5.post20221221.tar.gz (50 kB)\n",
            "\u001b[2K     \u001b[90m━━━━━━━━━━━━━━━━━━━━━━━━━━━━━━━━━━━━━━━━\u001b[0m \u001b[32m50.2/50.2 kB\u001b[0m \u001b[31m1.9 MB/s\u001b[0m eta \u001b[36m0:00:00\u001b[0m\n",
            "\u001b[?25h  Preparing metadata (setup.py) ... \u001b[?25l\u001b[?25hdone\n",
            "Collecting iopath<0.1.10,>=0.1.7\n",
            "  Downloading iopath-0.1.9-py3-none-any.whl.metadata (370 bytes)\n",
            "Collecting omegaconf<2.4,>=2.1\n",
            "  Downloading omegaconf-2.3.0-py3-none-any.whl.metadata (3.9 kB)\n",
            "Collecting hydra-core>=1.1\n",
            "  Downloading hydra_core-1.3.2-py3-none-any.whl.metadata (5.5 kB)\n",
            "Collecting black\n",
            "  Downloading black-24.8.0-cp310-cp310-manylinux_2_17_x86_64.manylinux2014_x86_64.manylinux_2_28_x86_64.whl.metadata (78 kB)\n",
            "\u001b[2K     \u001b[90m━━━━━━━━━━━━━━━━━━━━━━━━━━━━━━━━━━━━━━━━\u001b[0m \u001b[32m78.2/78.2 kB\u001b[0m \u001b[31m4.1 MB/s\u001b[0m eta \u001b[36m0:00:00\u001b[0m\n",
            "\u001b[?25hRequirement already satisfied: packaging in /usr/local/lib/python3.10/dist-packages (24.1)\n",
            "Requirement already satisfied: contourpy>=1.0.1 in /usr/local/lib/python3.10/dist-packages (from matplotlib) (1.3.0)\n",
            "Requirement already satisfied: cycler>=0.10 in /usr/local/lib/python3.10/dist-packages (from matplotlib) (0.12.1)\n",
            "Requirement already satisfied: fonttools>=4.22.0 in /usr/local/lib/python3.10/dist-packages (from matplotlib) (4.53.1)\n",
            "Requirement already satisfied: kiwisolver>=1.0.1 in /usr/local/lib/python3.10/dist-packages (from matplotlib) (1.4.7)\n",
            "Requirement already satisfied: numpy>=1.20 in /usr/local/lib/python3.10/dist-packages (from matplotlib) (1.26.4)\n",
            "Requirement already satisfied: pyparsing>=2.3.1 in /usr/local/lib/python3.10/dist-packages (from matplotlib) (3.1.4)\n",
            "Requirement already satisfied: python-dateutil>=2.7 in /usr/local/lib/python3.10/dist-packages (from matplotlib) (2.8.2)\n",
            "Requirement already satisfied: PyYAML in /usr/local/lib/python3.10/dist-packages (from yacs>=0.1.8) (6.0.2)\n",
            "Requirement already satisfied: absl-py>=0.4 in /usr/local/lib/python3.10/dist-packages (from tensorboard) (1.4.0)\n",
            "Requirement already satisfied: grpcio>=1.48.2 in /usr/local/lib/python3.10/dist-packages (from tensorboard) (1.64.1)\n",
            "Requirement already satisfied: markdown>=2.6.8 in /usr/local/lib/python3.10/dist-packages (from tensorboard) (3.7)\n",
            "Requirement already satisfied: protobuf!=4.24.0,<5.0.0,>=3.19.6 in /usr/local/lib/python3.10/dist-packages (from tensorboard) (3.20.3)\n",
            "Requirement already satisfied: setuptools>=41.0.0 in /usr/local/lib/python3.10/dist-packages (from tensorboard) (71.0.4)\n",
            "Requirement already satisfied: six>1.9 in /usr/local/lib/python3.10/dist-packages (from tensorboard) (1.16.0)\n",
            "Requirement already satisfied: tensorboard-data-server<0.8.0,>=0.7.0 in /usr/local/lib/python3.10/dist-packages (from tensorboard) (0.7.2)\n",
            "Requirement already satisfied: werkzeug>=1.0.1 in /usr/local/lib/python3.10/dist-packages (from tensorboard) (3.0.4)\n",
            "Collecting portalocker (from iopath<0.1.10,>=0.1.7)\n",
            "  Downloading portalocker-2.10.1-py3-none-any.whl.metadata (8.5 kB)\n",
            "Collecting antlr4-python3-runtime==4.9.* (from omegaconf<2.4,>=2.1)\n",
            "  Downloading antlr4-python3-runtime-4.9.3.tar.gz (117 kB)\n",
            "\u001b[2K     \u001b[90m━━━━━━━━━━━━━━━━━━━━━━━━━━━━━━━━━━━━━━━━\u001b[0m \u001b[32m117.0/117.0 kB\u001b[0m \u001b[31m9.3 MB/s\u001b[0m eta \u001b[36m0:00:00\u001b[0m\n",
            "\u001b[?25h  Preparing metadata (setup.py) ... \u001b[?25l\u001b[?25hdone\n",
            "Requirement already satisfied: click>=8.0.0 in /usr/local/lib/python3.10/dist-packages (from black) (8.1.7)\n",
            "Collecting mypy-extensions>=0.4.3 (from black)\n",
            "  Downloading mypy_extensions-1.0.0-py3-none-any.whl.metadata (1.1 kB)\n",
            "Collecting pathspec>=0.9.0 (from black)\n",
            "  Downloading pathspec-0.12.1-py3-none-any.whl.metadata (21 kB)\n",
            "Requirement already satisfied: platformdirs>=2 in /usr/local/lib/python3.10/dist-packages (from black) (4.3.6)\n",
            "Requirement already satisfied: tomli>=1.1.0 in /usr/local/lib/python3.10/dist-packages (from black) (2.0.1)\n",
            "Requirement already satisfied: typing-extensions>=4.0.1 in /usr/local/lib/python3.10/dist-packages (from black) (4.12.2)\n",
            "Requirement already satisfied: MarkupSafe>=2.1.1 in /usr/local/lib/python3.10/dist-packages (from werkzeug>=1.0.1->tensorboard) (2.1.5)\n",
            "Downloading yacs-0.1.8-py3-none-any.whl (14 kB)\n",
            "Downloading iopath-0.1.9-py3-none-any.whl (27 kB)\n",
            "Downloading omegaconf-2.3.0-py3-none-any.whl (79 kB)\n",
            "\u001b[2K   \u001b[90m━━━━━━━━━━━━━━━━━━━━━━━━━━━━━━━━━━━━━━━━\u001b[0m \u001b[32m79.5/79.5 kB\u001b[0m \u001b[31m6.1 MB/s\u001b[0m eta \u001b[36m0:00:00\u001b[0m\n",
            "\u001b[?25hDownloading hydra_core-1.3.2-py3-none-any.whl (154 kB)\n",
            "\u001b[2K   \u001b[90m━━━━━━━━━━━━━━━━━━━━━━━━━━━━━━━━━━━━━━━━\u001b[0m \u001b[32m154.5/154.5 kB\u001b[0m \u001b[31m12.0 MB/s\u001b[0m eta \u001b[36m0:00:00\u001b[0m\n",
            "\u001b[?25hDownloading black-24.8.0-cp310-cp310-manylinux_2_17_x86_64.manylinux2014_x86_64.manylinux_2_28_x86_64.whl (1.8 MB)\n",
            "\u001b[2K   \u001b[90m━━━━━━━━━━━━━━━━━━━━━━━━━━━━━━━━━━━━━━━━\u001b[0m \u001b[32m1.8/1.8 MB\u001b[0m \u001b[31m41.0 MB/s\u001b[0m eta \u001b[36m0:00:00\u001b[0m\n",
            "\u001b[?25hDownloading mypy_extensions-1.0.0-py3-none-any.whl (4.7 kB)\n",
            "Downloading pathspec-0.12.1-py3-none-any.whl (31 kB)\n",
            "Downloading portalocker-2.10.1-py3-none-any.whl (18 kB)\n",
            "Building wheels for collected packages: fvcore, antlr4-python3-runtime\n",
            "  Building wheel for fvcore (setup.py) ... \u001b[?25l\u001b[?25hdone\n",
            "  Created wheel for fvcore: filename=fvcore-0.1.5.post20221221-py3-none-any.whl size=61395 sha256=8298c3f73d84ff237e3ea50cd8197a434a65e5dfd788cf904ca6aa580678e5b0\n",
            "  Stored in directory: /root/.cache/pip/wheels/01/c0/af/77c1cf53a1be9e42a52b48e5af2169d40ec2e89f7362489dd0\n",
            "  Building wheel for antlr4-python3-runtime (setup.py) ... \u001b[?25l\u001b[?25hdone\n",
            "  Created wheel for antlr4-python3-runtime: filename=antlr4_python3_runtime-4.9.3-py3-none-any.whl size=144554 sha256=4c528e5a649fce32d3221d4355abafc08e01a2bff587f6dd56f79cb8af575b1f\n",
            "  Stored in directory: /root/.cache/pip/wheels/12/93/dd/1f6a127edc45659556564c5730f6d4e300888f4bca2d4c5a88\n",
            "Successfully built fvcore antlr4-python3-runtime\n",
            "Installing collected packages: antlr4-python3-runtime, yacs, portalocker, pathspec, omegaconf, mypy-extensions, iopath, hydra-core, black, fvcore\n",
            "Successfully installed antlr4-python3-runtime-4.9.3 black-24.8.0 fvcore-0.1.5.post20221221 hydra-core-1.3.2 iopath-0.1.9 mypy-extensions-1.0.0 omegaconf-2.3.0 pathspec-0.12.1 portalocker-2.10.1 yacs-0.1.8\n"
          ]
        }
      ],
      "source": [
        "!python -m pip install pyyaml==5.1\n",
        "import sys, os, distutils.core\n",
        "\n",
        "# See https://detectron2.readthedocs.io/tutorials/install.html for full installation instructions\n",
        "!git clone 'https://github.com/facebookresearch/detectron2'\n",
        "dist = distutils.core.run_setup(\"./detectron2/setup.py\")\n",
        "!python -m pip install {' '.join([f\"'{x}'\" for x in dist.install_requires])}\n",
        "sys.path.insert(0, os.path.abspath('./detectron2'))\n"
      ]
    },
    {
      "cell_type": "code",
      "source": [
        "import torch, detectron2"
      ],
      "metadata": {
        "id": "HZ7Z41kEvd-8"
      },
      "execution_count": 3,
      "outputs": []
    },
    {
      "cell_type": "code",
      "source": [
        "# Some basic setup:\n",
        "# Setup detectron2 logger\n",
        "import detectron2\n",
        "from detectron2.utils.logger import setup_logger\n",
        "setup_logger()\n",
        "\n",
        "# import some common libraries\n",
        "import numpy as np\n",
        "import os, json, cv2, random\n",
        "from google.colab.patches import cv2_imshow\n",
        "\n",
        "# import some common detectron2 utilities\n",
        "from detectron2 import model_zoo\n",
        "from detectron2.engine import DefaultPredictor\n",
        "from detectron2.config import get_cfg\n",
        "from detectron2.utils.visualizer import Visualizer\n",
        "from detectron2.data import MetadataCatalog, DatasetCatalog"
      ],
      "metadata": {
        "id": "PRCh0jEowpyw"
      },
      "execution_count": 4,
      "outputs": []
    },
    {
      "cell_type": "code",
      "source": [
        "from google.colab import drive\n",
        "drive.mount('/content/drive')"
      ],
      "metadata": {
        "colab": {
          "base_uri": "https://localhost:8080/"
        },
        "id": "E8o-hzl6wtmu",
        "outputId": "63c82f4b-2028-42a5-a4fb-8042f80b586e"
      },
      "execution_count": 5,
      "outputs": [
        {
          "output_type": "stream",
          "name": "stdout",
          "text": [
            "Mounted at /content/drive\n"
          ]
        }
      ]
    },
    {
      "cell_type": "code",
      "source": [
        "%cd /content/drive/MyDrive"
      ],
      "metadata": {
        "colab": {
          "base_uri": "https://localhost:8080/"
        },
        "id": "cFD2y4Zpzho_",
        "outputId": "3544fe69-6462-459e-e1df-65682b418d0f"
      },
      "execution_count": 6,
      "outputs": [
        {
          "output_type": "stream",
          "name": "stdout",
          "text": [
            "/content/drive/MyDrive\n"
          ]
        }
      ]
    },
    {
      "cell_type": "code",
      "source": [
        "%ls"
      ],
      "metadata": {
        "colab": {
          "base_uri": "https://localhost:8080/"
        },
        "id": "q0d8dzlW0CLU",
        "outputId": "379a8579-51f0-452f-ee2d-00c70eacf906"
      },
      "execution_count": 7,
      "outputs": [
        {
          "output_type": "stream",
          "name": "stdout",
          "text": [
            "'Assignment 3 notes Deep learning.gdoc'       'Foundation Db Notes.gdoc'\n",
            "'Big Data Notes.gdoc'                         'Individual part.gdoc'\n",
            "'Chapter 1 Answers.gdoc'                      'Ind Report New.gdoc'\n",
            "'Chapter 1 Worksheet.gdoc'                    'Job Tracker.gsheet'\n",
            "'Chapter 2 Answers.gdoc'                      'ML Notes.gdoc'\n",
            "'Chapter 2 Worksheet.gdoc'                    'ML Report (1).gdoc'\n",
            "'Chapter 3 Answers.gdoc'                      'ML Report.gdoc'\n",
            "'Chapter 3 WorkSheet.gdoc'                    'Music Recommendation System (2).gslides'\n",
            "'Chapter 4 Worksheet and Answers.gdoc'        'Pert Chart'\n",
            "\u001b[0m\u001b[01;34m'Colab Notebooks'\u001b[0m/                            'Resume Details.gdoc'\n",
            "'Cover Letter RA.gdoc'                        '[Resume] Tanisha Dhopeshwar(1).pdf'\n",
            " \u001b[01;34mData\u001b[0m/                                        '[Resume] Tanisha Dhopeshwar.gdoc'\n",
            " \u001b[01;34mData255\u001b[0m/                                      Sample_DATA_245_2024Sp_MT.pdf\n",
            "'Data 270 Decision Tree Flow Diagram.drawio'  'Shell Behavioural.gdoc'\n",
            "'Data 270 System Diagram.drawio'              'Untitled document (1).gdoc'\n",
            "'Data Mining Class.gdoc'                      'Untitled document (2).gdoc'\n",
            "'Final Report.gdoc'                           'Untitled document.gdoc'\n"
          ]
        }
      ]
    },
    {
      "cell_type": "code",
      "source": [
        "%cd Data255"
      ],
      "metadata": {
        "colab": {
          "base_uri": "https://localhost:8080/"
        },
        "id": "av3S8F8k0F-L",
        "outputId": "dc97d6ca-f927-420a-9842-8861000b13d3"
      },
      "execution_count": 8,
      "outputs": [
        {
          "output_type": "stream",
          "name": "stdout",
          "text": [
            "/content/drive/MyDrive/Data255\n"
          ]
        }
      ]
    },
    {
      "cell_type": "code",
      "source": [
        "%ls"
      ],
      "metadata": {
        "colab": {
          "base_uri": "https://localhost:8080/"
        },
        "id": "04NsoWKH0JE9",
        "outputId": "68c4e3d7-40a9-4087-c7d9-6bf445b3a51b"
      },
      "execution_count": 9,
      "outputs": [
        {
          "output_type": "stream",
          "name": "stdout",
          "text": [
            "Base-RCNN-FPN.yaml  \u001b[0m\u001b[01;34mData\u001b[0m/  \u001b[01;34mdetectron2\u001b[0m/  train_annotations_coco.json  val_annotations_coco.json\n"
          ]
        }
      ]
    },
    {
      "cell_type": "code",
      "source": [
        "import os\n",
        "import json\n",
        "import cv2"
      ],
      "metadata": {
        "id": "r6lJM5iFw-Nw"
      },
      "execution_count": 10,
      "outputs": []
    },
    {
      "cell_type": "markdown",
      "source": [
        "## Function to convert YOLO format to COCO.\n",
        "\n",
        "Note: Done to run in Detectron"
      ],
      "metadata": {
        "id": "IcxVRoMYL3ov"
      }
    },
    {
      "cell_type": "code",
      "source": [
        "# Function to convert YOLO annotations to COCO format\n",
        "def yolo_to_coco(yolo_ann_file, img_dir, categories):\n",
        "    coco_output = {\n",
        "        \"images\": [],\n",
        "        \"annotations\": [],\n",
        "        \"categories\": []\n",
        "    }\n",
        "\n",
        "    # Add categories (COCO expects a list of dicts with id and name)\n",
        "    for i, category in enumerate(categories):\n",
        "        coco_output[\"categories\"].append({\n",
        "            \"id\": i + 1,\n",
        "            \"name\": category\n",
        "        })\n",
        "\n",
        "    annotation_id = 1\n",
        "    image_id = 1\n",
        "\n",
        "    # Process each image in the dataset\n",
        "    for img_file in os.listdir(img_dir):\n",
        "        if img_file.endswith(\".jpg\") or img_file.endswith(\".png\"):\n",
        "            img_path = os.path.join(img_dir, img_file)\n",
        "\n",
        "            # Get image dimensions\n",
        "            img = cv2.imread(img_path)\n",
        "            height, width, _ = img.shape\n",
        "\n",
        "            # Add image to COCO output\n",
        "            coco_output[\"images\"].append({\n",
        "                \"id\": image_id,\n",
        "                \"file_name\": img_file,\n",
        "                \"width\": width,\n",
        "                \"height\": height\n",
        "            })\n",
        "\n",
        "            # Get corresponding YOLO annotation file\n",
        "            ann_file = os.path.join(yolo_ann_file, img_file.replace(\".jpg\", \".txt\").replace(\".png\", \".txt\"))\n",
        "\n",
        "            if not os.path.exists(ann_file):\n",
        "                print(f\"Annotation file not found for {img_file}\")\n",
        "                continue\n",
        "\n",
        "            # Read YOLO annotations\n",
        "            with open(ann_file, \"r\") as f:\n",
        "                for line in f.readlines():\n",
        "                    class_id, x_center, y_center, bbox_width, bbox_height = map(float, line.split())\n",
        "\n",
        "                    # Convert normalized YOLO bbox to COCO bbox (x_min, y_min, width, height)\n",
        "                    x_min = (x_center - bbox_width / 2) * width\n",
        "                    y_min = (y_center - bbox_height / 2) * height\n",
        "                    bbox_width *= width\n",
        "                    bbox_height *= height\n",
        "\n",
        "                    # Add annotation to COCO output\n",
        "                    coco_output[\"annotations\"].append({\n",
        "                        \"id\": annotation_id,\n",
        "                        \"image_id\": image_id,\n",
        "                        \"category_id\": int(class_id) + 1,  # COCO category id starts at 1\n",
        "                        \"bbox\": [x_min, y_min, bbox_width, bbox_height],\n",
        "                        \"area\": bbox_width * bbox_height,\n",
        "                        \"iscrowd\": 0  # For single object detection\n",
        "                    })\n",
        "\n",
        "                    annotation_id += 1\n",
        "\n",
        "            image_id += 1\n",
        "\n",
        "    return coco_output"
      ],
      "metadata": {
        "id": "C18Z_aaqxPMM"
      },
      "execution_count": 11,
      "outputs": []
    },
    {
      "cell_type": "code",
      "source": [
        "# Paths to dataset\n",
        "train_images_path = \"/content/drive/MyDrive/Data255/Data/train/images\"\n",
        "train_labels_path = \"/content/drive/MyDrive/Data255/Data/train/labels\"\n",
        "val_images_path = \"/content/drive/MyDrive/Data255/Data/valid/images\"\n",
        "val_labels_path = \"/content/drive/MyDrive/Data255/Data/valid/labels\""
      ],
      "metadata": {
        "id": "Im9IPi440UOP"
      },
      "execution_count": 11,
      "outputs": []
    },
    {
      "cell_type": "code",
      "source": [
        "# Define your class names here\n",
        "categories = ['Hammer', 'Pliers', 'Rope', 'Screw Driver', 'Tool Box', 'Wrench']"
      ],
      "metadata": {
        "id": "Iy1b9XlO0mXj"
      },
      "execution_count": 12,
      "outputs": []
    },
    {
      "cell_type": "code",
      "source": [
        "# Convert YOLO to COCO\n",
        "train_coco = yolo_to_coco(train_labels_path, train_images_path, categories)\n",
        "val_coco = yolo_to_coco(val_labels_path, val_images_path, categories)"
      ],
      "metadata": {
        "id": "lOzQaubx5NEx"
      },
      "execution_count": 13,
      "outputs": []
    },
    {
      "cell_type": "code",
      "source": [
        "# # Save the resulting JSON files\n",
        "with open(\"train_annotations_coco.json\", \"w\") as train_json:\n",
        "    json.dump(train_coco, train_json)\n",
        "\n",
        "with open(\"val_annotations_coco.json\", \"w\") as val_json:\n",
        "    json.dump(val_coco, val_json)\n",
        "\n",
        "print(\"Conversion completed!\")"
      ],
      "metadata": {
        "colab": {
          "base_uri": "https://localhost:8080/"
        },
        "id": "abMOyb_e1JCk",
        "outputId": "dc4f158a-bafa-459f-fd14-d4b05e69a800"
      },
      "execution_count": 15,
      "outputs": [
        {
          "output_type": "stream",
          "name": "stdout",
          "text": [
            "Conversion completed!\n"
          ]
        }
      ]
    },
    {
      "cell_type": "code",
      "source": [
        "from detectron2.data.datasets import register_coco_instances\n",
        "\n",
        "# Register the datasets\n",
        "register_coco_instances(\"train_dataset\", {}, \"/content/drive/MyDrive/Data255/Data/train_annotations_coco.json\", train_images_path)\n",
        "register_coco_instances(\"val_dataset\", {}, \"/content/drive/MyDrive/Data255/Data/val_annotations_coco.json\", val_images_path)"
      ],
      "metadata": {
        "id": "SxpdVpDv3JoR"
      },
      "execution_count": 16,
      "outputs": []
    },
    {
      "cell_type": "code",
      "source": [
        "%cd Data"
      ],
      "metadata": {
        "colab": {
          "base_uri": "https://localhost:8080/"
        },
        "id": "ieeBHvdl5hnG",
        "outputId": "532937fd-50b7-4b07-b14b-e94f716e50c8"
      },
      "execution_count": 19,
      "outputs": [
        {
          "output_type": "stream",
          "name": "stdout",
          "text": [
            "/content/drive/MyDrive/Data255/Data\n"
          ]
        }
      ]
    },
    {
      "cell_type": "code",
      "source": [
        "%ls"
      ],
      "metadata": {
        "colab": {
          "base_uri": "https://localhost:8080/"
        },
        "id": "hHzFqRGA5psK",
        "outputId": "72b46b5a-7f67-4724-94d3-7e800584d51d"
      },
      "execution_count": 20,
      "outputs": [
        {
          "output_type": "stream",
          "name": "stdout",
          "text": [
            "config.yaml  README.dataset.txt   \u001b[0m\u001b[01;34mruns\u001b[0m/  \u001b[01;34mtrain\u001b[0m/  yolov8n.pt\n",
            "data.yaml    README.roboflow.txt  \u001b[01;34mtest\u001b[0m/  \u001b[01;34mvalid\u001b[0m/  yolov8s.pt\n"
          ]
        }
      ]
    },
    {
      "cell_type": "markdown",
      "source": [
        "## Training the Model on the new data"
      ],
      "metadata": {
        "id": "4sfTtxw-cwYy"
      }
    },
    {
      "cell_type": "markdown",
      "source": [
        "Config and RCNN files from this link: https://github.com/facebookresearch/detectron2/blob/main/README.md"
      ],
      "metadata": {
        "id": "JvobLFfXIn8L"
      }
    },
    {
      "cell_type": "code",
      "source": [
        "from detectron2.engine import DefaultTrainer\n",
        "from detectron2.config import get_cfg\n",
        "\n",
        "cfg = get_cfg()\n",
        "cfg.merge_from_file(\"/content/drive/MyDrive/Data255/Data/config.yaml\")\n",
        "cfg.DATASETS.TRAIN = (\"train_dataset\",)\n",
        "cfg.DATASETS.TEST = (\"val_dataset\",)\n",
        "cfg.MODEL.WEIGHTS = \"detectron2://COCO-Detection/faster_rcnn_R_50_FPN_3x/137849458/model_final_280758.pkl\"\n",
        "cfg.SOLVER.MAX_ITER = 500\n",
        "cfg.MODEL.ROI_HEADS.NUM_CLASSES = 6\n",
        "\n",
        "trainer = DefaultTrainer(cfg)\n",
        "trainer.resume_or_load(resume=False)\n",
        "trainer.train()"
      ],
      "metadata": {
        "colab": {
          "base_uri": "https://localhost:8080/"
        },
        "id": "5X0oU6Wb3RZ9",
        "outputId": "44ce6788-d7c2-4398-953b-a818261aabb0"
      },
      "execution_count": 22,
      "outputs": [
        {
          "output_type": "stream",
          "name": "stdout",
          "text": [
            "[09/29 03:53:52 d2.engine.defaults]: Model:\n",
            "GeneralizedRCNN(\n",
            "  (backbone): FPN(\n",
            "    (fpn_lateral2): Conv2d(256, 256, kernel_size=(1, 1), stride=(1, 1))\n",
            "    (fpn_output2): Conv2d(256, 256, kernel_size=(3, 3), stride=(1, 1), padding=(1, 1))\n",
            "    (fpn_lateral3): Conv2d(512, 256, kernel_size=(1, 1), stride=(1, 1))\n",
            "    (fpn_output3): Conv2d(256, 256, kernel_size=(3, 3), stride=(1, 1), padding=(1, 1))\n",
            "    (fpn_lateral4): Conv2d(1024, 256, kernel_size=(1, 1), stride=(1, 1))\n",
            "    (fpn_output4): Conv2d(256, 256, kernel_size=(3, 3), stride=(1, 1), padding=(1, 1))\n",
            "    (fpn_lateral5): Conv2d(2048, 256, kernel_size=(1, 1), stride=(1, 1))\n",
            "    (fpn_output5): Conv2d(256, 256, kernel_size=(3, 3), stride=(1, 1), padding=(1, 1))\n",
            "    (top_block): LastLevelMaxPool()\n",
            "    (bottom_up): ResNet(\n",
            "      (stem): BasicStem(\n",
            "        (conv1): Conv2d(\n",
            "          3, 64, kernel_size=(7, 7), stride=(2, 2), padding=(3, 3), bias=False\n",
            "          (norm): FrozenBatchNorm2d(num_features=64, eps=1e-05)\n",
            "        )\n",
            "      )\n",
            "      (res2): Sequential(\n",
            "        (0): BottleneckBlock(\n",
            "          (shortcut): Conv2d(\n",
            "            64, 256, kernel_size=(1, 1), stride=(1, 1), bias=False\n",
            "            (norm): FrozenBatchNorm2d(num_features=256, eps=1e-05)\n",
            "          )\n",
            "          (conv1): Conv2d(\n",
            "            64, 64, kernel_size=(1, 1), stride=(1, 1), bias=False\n",
            "            (norm): FrozenBatchNorm2d(num_features=64, eps=1e-05)\n",
            "          )\n",
            "          (conv2): Conv2d(\n",
            "            64, 64, kernel_size=(3, 3), stride=(1, 1), padding=(1, 1), bias=False\n",
            "            (norm): FrozenBatchNorm2d(num_features=64, eps=1e-05)\n",
            "          )\n",
            "          (conv3): Conv2d(\n",
            "            64, 256, kernel_size=(1, 1), stride=(1, 1), bias=False\n",
            "            (norm): FrozenBatchNorm2d(num_features=256, eps=1e-05)\n",
            "          )\n",
            "        )\n",
            "        (1): BottleneckBlock(\n",
            "          (conv1): Conv2d(\n",
            "            256, 64, kernel_size=(1, 1), stride=(1, 1), bias=False\n",
            "            (norm): FrozenBatchNorm2d(num_features=64, eps=1e-05)\n",
            "          )\n",
            "          (conv2): Conv2d(\n",
            "            64, 64, kernel_size=(3, 3), stride=(1, 1), padding=(1, 1), bias=False\n",
            "            (norm): FrozenBatchNorm2d(num_features=64, eps=1e-05)\n",
            "          )\n",
            "          (conv3): Conv2d(\n",
            "            64, 256, kernel_size=(1, 1), stride=(1, 1), bias=False\n",
            "            (norm): FrozenBatchNorm2d(num_features=256, eps=1e-05)\n",
            "          )\n",
            "        )\n",
            "        (2): BottleneckBlock(\n",
            "          (conv1): Conv2d(\n",
            "            256, 64, kernel_size=(1, 1), stride=(1, 1), bias=False\n",
            "            (norm): FrozenBatchNorm2d(num_features=64, eps=1e-05)\n",
            "          )\n",
            "          (conv2): Conv2d(\n",
            "            64, 64, kernel_size=(3, 3), stride=(1, 1), padding=(1, 1), bias=False\n",
            "            (norm): FrozenBatchNorm2d(num_features=64, eps=1e-05)\n",
            "          )\n",
            "          (conv3): Conv2d(\n",
            "            64, 256, kernel_size=(1, 1), stride=(1, 1), bias=False\n",
            "            (norm): FrozenBatchNorm2d(num_features=256, eps=1e-05)\n",
            "          )\n",
            "        )\n",
            "      )\n",
            "      (res3): Sequential(\n",
            "        (0): BottleneckBlock(\n",
            "          (shortcut): Conv2d(\n",
            "            256, 512, kernel_size=(1, 1), stride=(2, 2), bias=False\n",
            "            (norm): FrozenBatchNorm2d(num_features=512, eps=1e-05)\n",
            "          )\n",
            "          (conv1): Conv2d(\n",
            "            256, 128, kernel_size=(1, 1), stride=(2, 2), bias=False\n",
            "            (norm): FrozenBatchNorm2d(num_features=128, eps=1e-05)\n",
            "          )\n",
            "          (conv2): Conv2d(\n",
            "            128, 128, kernel_size=(3, 3), stride=(1, 1), padding=(1, 1), bias=False\n",
            "            (norm): FrozenBatchNorm2d(num_features=128, eps=1e-05)\n",
            "          )\n",
            "          (conv3): Conv2d(\n",
            "            128, 512, kernel_size=(1, 1), stride=(1, 1), bias=False\n",
            "            (norm): FrozenBatchNorm2d(num_features=512, eps=1e-05)\n",
            "          )\n",
            "        )\n",
            "        (1): BottleneckBlock(\n",
            "          (conv1): Conv2d(\n",
            "            512, 128, kernel_size=(1, 1), stride=(1, 1), bias=False\n",
            "            (norm): FrozenBatchNorm2d(num_features=128, eps=1e-05)\n",
            "          )\n",
            "          (conv2): Conv2d(\n",
            "            128, 128, kernel_size=(3, 3), stride=(1, 1), padding=(1, 1), bias=False\n",
            "            (norm): FrozenBatchNorm2d(num_features=128, eps=1e-05)\n",
            "          )\n",
            "          (conv3): Conv2d(\n",
            "            128, 512, kernel_size=(1, 1), stride=(1, 1), bias=False\n",
            "            (norm): FrozenBatchNorm2d(num_features=512, eps=1e-05)\n",
            "          )\n",
            "        )\n",
            "        (2): BottleneckBlock(\n",
            "          (conv1): Conv2d(\n",
            "            512, 128, kernel_size=(1, 1), stride=(1, 1), bias=False\n",
            "            (norm): FrozenBatchNorm2d(num_features=128, eps=1e-05)\n",
            "          )\n",
            "          (conv2): Conv2d(\n",
            "            128, 128, kernel_size=(3, 3), stride=(1, 1), padding=(1, 1), bias=False\n",
            "            (norm): FrozenBatchNorm2d(num_features=128, eps=1e-05)\n",
            "          )\n",
            "          (conv3): Conv2d(\n",
            "            128, 512, kernel_size=(1, 1), stride=(1, 1), bias=False\n",
            "            (norm): FrozenBatchNorm2d(num_features=512, eps=1e-05)\n",
            "          )\n",
            "        )\n",
            "        (3): BottleneckBlock(\n",
            "          (conv1): Conv2d(\n",
            "            512, 128, kernel_size=(1, 1), stride=(1, 1), bias=False\n",
            "            (norm): FrozenBatchNorm2d(num_features=128, eps=1e-05)\n",
            "          )\n",
            "          (conv2): Conv2d(\n",
            "            128, 128, kernel_size=(3, 3), stride=(1, 1), padding=(1, 1), bias=False\n",
            "            (norm): FrozenBatchNorm2d(num_features=128, eps=1e-05)\n",
            "          )\n",
            "          (conv3): Conv2d(\n",
            "            128, 512, kernel_size=(1, 1), stride=(1, 1), bias=False\n",
            "            (norm): FrozenBatchNorm2d(num_features=512, eps=1e-05)\n",
            "          )\n",
            "        )\n",
            "      )\n",
            "      (res4): Sequential(\n",
            "        (0): BottleneckBlock(\n",
            "          (shortcut): Conv2d(\n",
            "            512, 1024, kernel_size=(1, 1), stride=(2, 2), bias=False\n",
            "            (norm): FrozenBatchNorm2d(num_features=1024, eps=1e-05)\n",
            "          )\n",
            "          (conv1): Conv2d(\n",
            "            512, 256, kernel_size=(1, 1), stride=(2, 2), bias=False\n",
            "            (norm): FrozenBatchNorm2d(num_features=256, eps=1e-05)\n",
            "          )\n",
            "          (conv2): Conv2d(\n",
            "            256, 256, kernel_size=(3, 3), stride=(1, 1), padding=(1, 1), bias=False\n",
            "            (norm): FrozenBatchNorm2d(num_features=256, eps=1e-05)\n",
            "          )\n",
            "          (conv3): Conv2d(\n",
            "            256, 1024, kernel_size=(1, 1), stride=(1, 1), bias=False\n",
            "            (norm): FrozenBatchNorm2d(num_features=1024, eps=1e-05)\n",
            "          )\n",
            "        )\n",
            "        (1): BottleneckBlock(\n",
            "          (conv1): Conv2d(\n",
            "            1024, 256, kernel_size=(1, 1), stride=(1, 1), bias=False\n",
            "            (norm): FrozenBatchNorm2d(num_features=256, eps=1e-05)\n",
            "          )\n",
            "          (conv2): Conv2d(\n",
            "            256, 256, kernel_size=(3, 3), stride=(1, 1), padding=(1, 1), bias=False\n",
            "            (norm): FrozenBatchNorm2d(num_features=256, eps=1e-05)\n",
            "          )\n",
            "          (conv3): Conv2d(\n",
            "            256, 1024, kernel_size=(1, 1), stride=(1, 1), bias=False\n",
            "            (norm): FrozenBatchNorm2d(num_features=1024, eps=1e-05)\n",
            "          )\n",
            "        )\n",
            "        (2): BottleneckBlock(\n",
            "          (conv1): Conv2d(\n",
            "            1024, 256, kernel_size=(1, 1), stride=(1, 1), bias=False\n",
            "            (norm): FrozenBatchNorm2d(num_features=256, eps=1e-05)\n",
            "          )\n",
            "          (conv2): Conv2d(\n",
            "            256, 256, kernel_size=(3, 3), stride=(1, 1), padding=(1, 1), bias=False\n",
            "            (norm): FrozenBatchNorm2d(num_features=256, eps=1e-05)\n",
            "          )\n",
            "          (conv3): Conv2d(\n",
            "            256, 1024, kernel_size=(1, 1), stride=(1, 1), bias=False\n",
            "            (norm): FrozenBatchNorm2d(num_features=1024, eps=1e-05)\n",
            "          )\n",
            "        )\n",
            "        (3): BottleneckBlock(\n",
            "          (conv1): Conv2d(\n",
            "            1024, 256, kernel_size=(1, 1), stride=(1, 1), bias=False\n",
            "            (norm): FrozenBatchNorm2d(num_features=256, eps=1e-05)\n",
            "          )\n",
            "          (conv2): Conv2d(\n",
            "            256, 256, kernel_size=(3, 3), stride=(1, 1), padding=(1, 1), bias=False\n",
            "            (norm): FrozenBatchNorm2d(num_features=256, eps=1e-05)\n",
            "          )\n",
            "          (conv3): Conv2d(\n",
            "            256, 1024, kernel_size=(1, 1), stride=(1, 1), bias=False\n",
            "            (norm): FrozenBatchNorm2d(num_features=1024, eps=1e-05)\n",
            "          )\n",
            "        )\n",
            "        (4): BottleneckBlock(\n",
            "          (conv1): Conv2d(\n",
            "            1024, 256, kernel_size=(1, 1), stride=(1, 1), bias=False\n",
            "            (norm): FrozenBatchNorm2d(num_features=256, eps=1e-05)\n",
            "          )\n",
            "          (conv2): Conv2d(\n",
            "            256, 256, kernel_size=(3, 3), stride=(1, 1), padding=(1, 1), bias=False\n",
            "            (norm): FrozenBatchNorm2d(num_features=256, eps=1e-05)\n",
            "          )\n",
            "          (conv3): Conv2d(\n",
            "            256, 1024, kernel_size=(1, 1), stride=(1, 1), bias=False\n",
            "            (norm): FrozenBatchNorm2d(num_features=1024, eps=1e-05)\n",
            "          )\n",
            "        )\n",
            "        (5): BottleneckBlock(\n",
            "          (conv1): Conv2d(\n",
            "            1024, 256, kernel_size=(1, 1), stride=(1, 1), bias=False\n",
            "            (norm): FrozenBatchNorm2d(num_features=256, eps=1e-05)\n",
            "          )\n",
            "          (conv2): Conv2d(\n",
            "            256, 256, kernel_size=(3, 3), stride=(1, 1), padding=(1, 1), bias=False\n",
            "            (norm): FrozenBatchNorm2d(num_features=256, eps=1e-05)\n",
            "          )\n",
            "          (conv3): Conv2d(\n",
            "            256, 1024, kernel_size=(1, 1), stride=(1, 1), bias=False\n",
            "            (norm): FrozenBatchNorm2d(num_features=1024, eps=1e-05)\n",
            "          )\n",
            "        )\n",
            "      )\n",
            "      (res5): Sequential(\n",
            "        (0): BottleneckBlock(\n",
            "          (shortcut): Conv2d(\n",
            "            1024, 2048, kernel_size=(1, 1), stride=(2, 2), bias=False\n",
            "            (norm): FrozenBatchNorm2d(num_features=2048, eps=1e-05)\n",
            "          )\n",
            "          (conv1): Conv2d(\n",
            "            1024, 512, kernel_size=(1, 1), stride=(2, 2), bias=False\n",
            "            (norm): FrozenBatchNorm2d(num_features=512, eps=1e-05)\n",
            "          )\n",
            "          (conv2): Conv2d(\n",
            "            512, 512, kernel_size=(3, 3), stride=(1, 1), padding=(1, 1), bias=False\n",
            "            (norm): FrozenBatchNorm2d(num_features=512, eps=1e-05)\n",
            "          )\n",
            "          (conv3): Conv2d(\n",
            "            512, 2048, kernel_size=(1, 1), stride=(1, 1), bias=False\n",
            "            (norm): FrozenBatchNorm2d(num_features=2048, eps=1e-05)\n",
            "          )\n",
            "        )\n",
            "        (1): BottleneckBlock(\n",
            "          (conv1): Conv2d(\n",
            "            2048, 512, kernel_size=(1, 1), stride=(1, 1), bias=False\n",
            "            (norm): FrozenBatchNorm2d(num_features=512, eps=1e-05)\n",
            "          )\n",
            "          (conv2): Conv2d(\n",
            "            512, 512, kernel_size=(3, 3), stride=(1, 1), padding=(1, 1), bias=False\n",
            "            (norm): FrozenBatchNorm2d(num_features=512, eps=1e-05)\n",
            "          )\n",
            "          (conv3): Conv2d(\n",
            "            512, 2048, kernel_size=(1, 1), stride=(1, 1), bias=False\n",
            "            (norm): FrozenBatchNorm2d(num_features=2048, eps=1e-05)\n",
            "          )\n",
            "        )\n",
            "        (2): BottleneckBlock(\n",
            "          (conv1): Conv2d(\n",
            "            2048, 512, kernel_size=(1, 1), stride=(1, 1), bias=False\n",
            "            (norm): FrozenBatchNorm2d(num_features=512, eps=1e-05)\n",
            "          )\n",
            "          (conv2): Conv2d(\n",
            "            512, 512, kernel_size=(3, 3), stride=(1, 1), padding=(1, 1), bias=False\n",
            "            (norm): FrozenBatchNorm2d(num_features=512, eps=1e-05)\n",
            "          )\n",
            "          (conv3): Conv2d(\n",
            "            512, 2048, kernel_size=(1, 1), stride=(1, 1), bias=False\n",
            "            (norm): FrozenBatchNorm2d(num_features=2048, eps=1e-05)\n",
            "          )\n",
            "        )\n",
            "      )\n",
            "    )\n",
            "  )\n",
            "  (proposal_generator): RPN(\n",
            "    (rpn_head): StandardRPNHead(\n",
            "      (conv): Conv2d(\n",
            "        256, 256, kernel_size=(3, 3), stride=(1, 1), padding=(1, 1)\n",
            "        (activation): ReLU()\n",
            "      )\n",
            "      (objectness_logits): Conv2d(256, 3, kernel_size=(1, 1), stride=(1, 1))\n",
            "      (anchor_deltas): Conv2d(256, 12, kernel_size=(1, 1), stride=(1, 1))\n",
            "    )\n",
            "    (anchor_generator): DefaultAnchorGenerator(\n",
            "      (cell_anchors): BufferList()\n",
            "    )\n",
            "  )\n",
            "  (roi_heads): StandardROIHeads(\n",
            "    (box_pooler): ROIPooler(\n",
            "      (level_poolers): ModuleList(\n",
            "        (0): ROIAlign(output_size=(7, 7), spatial_scale=0.25, sampling_ratio=0, aligned=True)\n",
            "        (1): ROIAlign(output_size=(7, 7), spatial_scale=0.125, sampling_ratio=0, aligned=True)\n",
            "        (2): ROIAlign(output_size=(7, 7), spatial_scale=0.0625, sampling_ratio=0, aligned=True)\n",
            "        (3): ROIAlign(output_size=(7, 7), spatial_scale=0.03125, sampling_ratio=0, aligned=True)\n",
            "      )\n",
            "    )\n",
            "    (box_head): FastRCNNConvFCHead(\n",
            "      (flatten): Flatten(start_dim=1, end_dim=-1)\n",
            "      (fc1): Linear(in_features=12544, out_features=1024, bias=True)\n",
            "      (fc_relu1): ReLU()\n",
            "      (fc2): Linear(in_features=1024, out_features=1024, bias=True)\n",
            "      (fc_relu2): ReLU()\n",
            "    )\n",
            "    (box_predictor): FastRCNNOutputLayers(\n",
            "      (cls_score): Linear(in_features=1024, out_features=7, bias=True)\n",
            "      (bbox_pred): Linear(in_features=1024, out_features=24, bias=True)\n",
            "    )\n",
            "  )\n",
            ")\n",
            "[09/29 03:53:53 d2.data.datasets.coco]: Loaded 534 images in COCO format from /content/drive/MyDrive/Data255/Data/train_annotations_coco.json\n",
            "[09/29 03:53:53 d2.data.build]: Removed 0 images with no usable annotations. 534 images left.\n",
            "[09/29 03:53:53 d2.data.build]: Distribution of instances among all 6 categories:\n",
            "|   category   | #instances   |  category  | #instances   |  category  | #instances   |\n",
            "|:------------:|:-------------|:----------:|:-------------|:----------:|:-------------|\n",
            "|    Hammer    | 105          |   Pliers   | 222          |    Rope    | 108          |\n",
            "| Screw Driver | 153          |  Tool Box  | 90           |   Wrench   | 207          |\n",
            "|              |              |            |              |            |              |\n",
            "|    total     | 885          |            |              |            |              |\n",
            "[09/29 03:53:53 d2.data.dataset_mapper]: [DatasetMapper] Augmentations used in training: [ResizeShortestEdge(short_edge_length=(640, 672, 704, 736, 768, 800), max_size=1333, sample_style='choice'), RandomFlip()]\n",
            "[09/29 03:53:53 d2.data.build]: Using training sampler TrainingSampler\n",
            "[09/29 03:53:53 d2.data.common]: Serializing the dataset using: <class 'detectron2.data.common._TorchSerializedList'>\n",
            "[09/29 03:53:53 d2.data.common]: Serializing 534 elements to byte tensors and concatenating them all ...\n",
            "[09/29 03:53:53 d2.data.common]: Serialized dataset takes 0.18 MiB\n",
            "[09/29 03:53:53 d2.data.build]: Making batched data loader with batch_size=16\n",
            "WARNING [09/29 03:53:53 d2.solver.build]: SOLVER.STEPS contains values larger than SOLVER.MAX_ITER. These values will be ignored.\n",
            "[09/29 03:53:53 d2.checkpoint.detection_checkpoint]: [DetectionCheckpointer] Loading from detectron2://COCO-Detection/faster_rcnn_R_50_FPN_3x/137849458/model_final_280758.pkl ...\n"
          ]
        },
        {
          "output_type": "stream",
          "name": "stderr",
          "text": [
            "/usr/local/lib/python3.10/dist-packages/torch/utils/data/dataloader.py:557: UserWarning: This DataLoader will create 4 worker processes in total. Our suggested max number of worker in current system is 2, which is smaller than what this DataLoader is going to create. Please be aware that excessive worker creation might get DataLoader running slow or even freeze, lower the worker number to avoid potential slowness/freeze if necessary.\n",
            "  warnings.warn(_create_warning_msg(\n",
            "model_final_280758.pkl: 167MB [00:01, 95.4MB/s]                          \n",
            "WARNING:fvcore.common.checkpoint:Skip loading parameter 'roi_heads.box_predictor.cls_score.weight' to the model due to incompatible shapes: (81, 1024) in the checkpoint but (7, 1024) in the model! You might want to double check if this is expected.\n",
            "WARNING:fvcore.common.checkpoint:Skip loading parameter 'roi_heads.box_predictor.cls_score.bias' to the model due to incompatible shapes: (81,) in the checkpoint but (7,) in the model! You might want to double check if this is expected.\n",
            "WARNING:fvcore.common.checkpoint:Skip loading parameter 'roi_heads.box_predictor.bbox_pred.weight' to the model due to incompatible shapes: (320, 1024) in the checkpoint but (24, 1024) in the model! You might want to double check if this is expected.\n",
            "WARNING:fvcore.common.checkpoint:Skip loading parameter 'roi_heads.box_predictor.bbox_pred.bias' to the model due to incompatible shapes: (320,) in the checkpoint but (24,) in the model! You might want to double check if this is expected.\n",
            "WARNING:fvcore.common.checkpoint:Some model parameters or buffers are not found in the checkpoint:\n",
            "roi_heads.box_predictor.bbox_pred.{bias, weight}\n",
            "roi_heads.box_predictor.cls_score.{bias, weight}\n"
          ]
        },
        {
          "output_type": "stream",
          "name": "stdout",
          "text": [
            "[09/29 03:53:55 d2.engine.train_loop]: Starting training from iteration 0\n"
          ]
        },
        {
          "output_type": "stream",
          "name": "stderr",
          "text": [
            "/usr/local/lib/python3.10/dist-packages/torch/functional.py:513: UserWarning: torch.meshgrid: in an upcoming release, it will be required to pass the indexing argument. (Triggered internally at ../aten/src/ATen/native/TensorShape.cpp:3609.)\n",
            "  return _VF.meshgrid(tensors, **kwargs)  # type: ignore[attr-defined]\n"
          ]
        },
        {
          "output_type": "stream",
          "name": "stdout",
          "text": [
            "[09/29 03:55:10 d2.utils.events]:  eta: 0:26:49  iter: 19  total_loss: 0.7899  loss_cls: 0.5502  loss_box_reg: 0.1682  loss_rpn_cls: 0.0113  loss_rpn_loc: 0.0192    time: 3.3585  last_time: 3.2983  data_time: 0.9558  last_data_time: 0.7227   lr: 0.00077924  max_mem: 11356M\n",
            "[09/29 03:56:19 d2.utils.events]:  eta: 0:25:25  iter: 39  total_loss: 0.3989  loss_cls: 0.1879  loss_box_reg: 0.1729  loss_rpn_cls: 0.007019  loss_rpn_loc: 0.02119    time: 3.3120  last_time: 2.8210  data_time: 0.6795  last_data_time: 0.1828   lr: 0.0015784  max_mem: 11356M\n",
            "[09/29 03:57:15 d2.utils.events]:  eta: 0:23:54  iter: 59  total_loss: 0.3779  loss_cls: 0.1645  loss_box_reg: 0.189  loss_rpn_cls: 0.006658  loss_rpn_loc: 0.01699    time: 3.1410  last_time: 2.7735  data_time: 0.2315  last_data_time: 0.1834   lr: 0.0023776  max_mem: 11356M\n",
            "[09/29 03:58:12 d2.utils.events]:  eta: 0:21:05  iter: 79  total_loss: 0.3309  loss_cls: 0.1424  loss_box_reg: 0.1821  loss_rpn_cls: 0.002986  loss_rpn_loc: 0.01299    time: 3.0658  last_time: 2.7914  data_time: 0.2305  last_data_time: 0.1700   lr: 0.0031768  max_mem: 11356M\n",
            "[09/29 03:59:09 d2.utils.events]:  eta: 0:19:36  iter: 99  total_loss: 0.3139  loss_cls: 0.1305  loss_box_reg: 0.1654  loss_rpn_cls: 0.001979  loss_rpn_loc: 0.01736    time: 3.0246  last_time: 3.0644  data_time: 0.2285  last_data_time: 0.3432   lr: 0.003976  max_mem: 11356M\n",
            "[09/29 04:00:06 d2.utils.events]:  eta: 0:18:28  iter: 119  total_loss: 0.3118  loss_cls: 0.1347  loss_box_reg: 0.1533  loss_rpn_cls: 0.001554  loss_rpn_loc: 0.01497    time: 2.9970  last_time: 2.8029  data_time: 0.2352  last_data_time: 0.1920   lr: 0.0047752  max_mem: 11356M\n",
            "[09/29 04:01:04 d2.utils.events]:  eta: 0:17:15  iter: 139  total_loss: 0.238  loss_cls: 0.1175  loss_box_reg: 0.09477  loss_rpn_cls: 0.001641  loss_rpn_loc: 0.01902    time: 2.9771  last_time: 2.9474  data_time: 0.2383  last_data_time: 0.3198   lr: 0.0055744  max_mem: 11356M\n",
            "[09/29 04:02:00 d2.utils.events]:  eta: 0:16:06  iter: 159  total_loss: 0.1983  loss_cls: 0.1041  loss_box_reg: 0.07169  loss_rpn_cls: 0.001466  loss_rpn_loc: 0.01631    time: 2.9582  last_time: 2.5771  data_time: 0.2283  last_data_time: 0.1645   lr: 0.0063736  max_mem: 11356M\n",
            "[09/29 04:02:57 d2.utils.events]:  eta: 0:15:06  iter: 179  total_loss: 0.1611  loss_cls: 0.08113  loss_box_reg: 0.0589  loss_rpn_cls: 0.001634  loss_rpn_loc: 0.0148    time: 2.9452  last_time: 2.7126  data_time: 0.2254  last_data_time: 0.1546   lr: 0.0071728  max_mem: 11356M\n",
            "[09/29 04:03:54 d2.utils.events]:  eta: 0:14:09  iter: 199  total_loss: 0.1562  loss_cls: 0.07029  loss_box_reg: 0.06401  loss_rpn_cls: 0.00108  loss_rpn_loc: 0.01523    time: 2.9373  last_time: 3.0507  data_time: 0.2417  last_data_time: 0.3522   lr: 0.007972  max_mem: 11356M\n",
            "[09/29 04:04:51 d2.utils.events]:  eta: 0:13:10  iter: 219  total_loss: 0.1409  loss_cls: 0.06264  loss_box_reg: 0.06118  loss_rpn_cls: 0.001363  loss_rpn_loc: 0.0155    time: 2.9254  last_time: 2.5281  data_time: 0.2200  last_data_time: 0.1787   lr: 0.0087712  max_mem: 11356M\n",
            "[09/29 04:05:47 d2.utils.events]:  eta: 0:12:12  iter: 239  total_loss: 0.131  loss_cls: 0.05403  loss_box_reg: 0.0571  loss_rpn_cls: 0.00128  loss_rpn_loc: 0.01481    time: 2.9179  last_time: 2.7935  data_time: 0.2406  last_data_time: 0.1841   lr: 0.0095704  max_mem: 11356M\n",
            "[09/29 04:06:44 d2.utils.events]:  eta: 0:11:15  iter: 259  total_loss: 0.1103  loss_cls: 0.0442  loss_box_reg: 0.04937  loss_rpn_cls: 0.001343  loss_rpn_loc: 0.01311    time: 2.9113  last_time: 2.9698  data_time: 0.2163  last_data_time: 0.2901   lr: 0.01037  max_mem: 11356M\n",
            "[09/29 04:07:40 d2.utils.events]:  eta: 0:10:18  iter: 279  total_loss: 0.1149  loss_cls: 0.04204  loss_box_reg: 0.05363  loss_rpn_cls: 0.0009088  loss_rpn_loc: 0.01492    time: 2.9047  last_time: 2.7939  data_time: 0.2190  last_data_time: 0.1786   lr: 0.011169  max_mem: 11356M\n",
            "[09/29 04:08:37 d2.utils.events]:  eta: 0:09:22  iter: 299  total_loss: 0.08332  loss_cls: 0.03057  loss_box_reg: 0.03897  loss_rpn_cls: 0.0009108  loss_rpn_loc: 0.0146    time: 2.8995  last_time: 3.0126  data_time: 0.2302  last_data_time: 0.3648   lr: 0.011968  max_mem: 11356M\n",
            "[09/29 04:09:33 d2.utils.events]:  eta: 0:08:25  iter: 319  total_loss: 0.09222  loss_cls: 0.03065  loss_box_reg: 0.04297  loss_rpn_cls: 0.0008313  loss_rpn_loc: 0.01403    time: 2.8939  last_time: 2.7872  data_time: 0.2160  last_data_time: 0.2039   lr: 0.012767  max_mem: 11356M\n",
            "[09/29 04:10:30 d2.utils.events]:  eta: 0:07:29  iter: 339  total_loss: 0.103  loss_cls: 0.03078  loss_box_reg: 0.04511  loss_rpn_cls: 0.001131  loss_rpn_loc: 0.01866    time: 2.8910  last_time: 2.7592  data_time: 0.2394  last_data_time: 0.1630   lr: 0.013566  max_mem: 11356M\n",
            "[09/29 04:11:27 d2.utils.events]:  eta: 0:06:33  iter: 359  total_loss: 0.1107  loss_cls: 0.03713  loss_box_reg: 0.05329  loss_rpn_cls: 0.0007964  loss_rpn_loc: 0.01135    time: 2.8885  last_time: 3.0344  data_time: 0.2267  last_data_time: 0.3647   lr: 0.014366  max_mem: 11356M\n",
            "[09/29 04:12:24 d2.utils.events]:  eta: 0:05:36  iter: 379  total_loss: 0.09607  loss_cls: 0.02931  loss_box_reg: 0.04956  loss_rpn_cls: 0.0009496  loss_rpn_loc: 0.01323    time: 2.8864  last_time: 2.7823  data_time: 0.2197  last_data_time: 0.1756   lr: 0.015165  max_mem: 11356M\n",
            "[09/29 04:13:21 d2.utils.events]:  eta: 0:04:40  iter: 399  total_loss: 0.09029  loss_cls: 0.02689  loss_box_reg: 0.04593  loss_rpn_cls: 0.0009153  loss_rpn_loc: 0.0115    time: 2.8835  last_time: 3.0167  data_time: 0.2280  last_data_time: 0.3752   lr: 0.015964  max_mem: 11356M\n",
            "[09/29 04:14:17 d2.utils.events]:  eta: 0:03:44  iter: 419  total_loss: 0.07553  loss_cls: 0.02274  loss_box_reg: 0.0387  loss_rpn_cls: 0.000715  loss_rpn_loc: 0.01067    time: 2.8795  last_time: 2.7659  data_time: 0.2204  last_data_time: 0.1799   lr: 0.016763  max_mem: 11356M\n",
            "[09/29 04:15:13 d2.utils.events]:  eta: 0:02:48  iter: 439  total_loss: 0.07605  loss_cls: 0.02057  loss_box_reg: 0.03552  loss_rpn_cls: 0.0009276  loss_rpn_loc: 0.01261    time: 2.8773  last_time: 2.7496  data_time: 0.2285  last_data_time: 0.1680   lr: 0.017562  max_mem: 11356M\n",
            "[09/29 04:16:10 d2.utils.events]:  eta: 0:01:52  iter: 459  total_loss: 0.08043  loss_cls: 0.02218  loss_box_reg: 0.04409  loss_rpn_cls: 0.0005613  loss_rpn_loc: 0.01292    time: 2.8751  last_time: 2.7900  data_time: 0.2331  last_data_time: 0.3809   lr: 0.018362  max_mem: 11356M\n",
            "[09/29 04:17:06 d2.utils.events]:  eta: 0:00:56  iter: 479  total_loss: 0.06905  loss_cls: 0.01993  loss_box_reg: 0.03341  loss_rpn_cls: 0.0008123  loss_rpn_loc: 0.01183    time: 2.8732  last_time: 2.7511  data_time: 0.2246  last_data_time: 0.1796   lr: 0.019161  max_mem: 11356M\n",
            "[09/29 04:18:04 d2.utils.events]:  eta: 0:00:00  iter: 499  total_loss: 0.07824  loss_cls: 0.02075  loss_box_reg: 0.03785  loss_rpn_cls: 0.0008368  loss_rpn_loc: 0.0151    time: 2.8721  last_time: 2.9724  data_time: 0.2353  last_data_time: 0.3247   lr: 0.01996  max_mem: 11356M\n",
            "[09/29 04:18:04 d2.engine.hooks]: Overall training speed: 498 iterations in 0:23:50 (2.8722 s / it)\n",
            "[09/29 04:18:04 d2.engine.hooks]: Total training time: 0:23:55 (0:00:04 on hooks)\n",
            "[09/29 04:18:05 d2.data.datasets.coco]: Loaded 51 images in COCO format from /content/drive/MyDrive/Data255/Data/val_annotations_coco.json\n",
            "[09/29 04:18:05 d2.data.build]: Distribution of instances among all 6 categories:\n",
            "|   category   | #instances   |  category  | #instances   |  category  | #instances   |\n",
            "|:------------:|:-------------|:----------:|:-------------|:----------:|:-------------|\n",
            "|    Hammer    | 18           |   Pliers   | 8            |    Rope    | 13           |\n",
            "| Screw Driver | 14           |  Tool Box  | 7            |   Wrench   | 22           |\n",
            "|              |              |            |              |            |              |\n",
            "|    total     | 82           |            |              |            |              |\n",
            "[09/29 04:18:05 d2.data.dataset_mapper]: [DatasetMapper] Augmentations used in inference: [ResizeShortestEdge(short_edge_length=(800, 800), max_size=1333, sample_style='choice')]\n",
            "[09/29 04:18:05 d2.data.common]: Serializing the dataset using: <class 'detectron2.data.common._TorchSerializedList'>\n",
            "[09/29 04:18:05 d2.data.common]: Serializing 51 elements to byte tensors and concatenating them all ...\n",
            "[09/29 04:18:05 d2.data.common]: Serialized dataset takes 0.02 MiB\n",
            "WARNING [09/29 04:18:05 d2.engine.defaults]: No evaluator found. Use `DefaultTrainer.test(evaluators=)`, or implement its `build_evaluator` method.\n"
          ]
        },
        {
          "output_type": "stream",
          "name": "stderr",
          "text": [
            "/usr/local/lib/python3.10/dist-packages/torch/utils/data/dataloader.py:557: UserWarning: This DataLoader will create 4 worker processes in total. Our suggested max number of worker in current system is 2, which is smaller than what this DataLoader is going to create. Please be aware that excessive worker creation might get DataLoader running slow or even freeze, lower the worker number to avoid potential slowness/freeze if necessary.\n",
            "  warnings.warn(_create_warning_msg(\n"
          ]
        }
      ]
    },
    {
      "cell_type": "markdown",
      "source": [
        "## Evaluating the Results"
      ],
      "metadata": {
        "id": "yeuNLUhzdYPC"
      }
    },
    {
      "cell_type": "code",
      "source": [
        "from detectron2.evaluation import COCOEvaluator, inference_on_dataset\n",
        "from detectron2.data import build_detection_test_loader\n",
        "\n",
        "# Create the evaluator for validation dataset\n",
        "evaluator = COCOEvaluator(\"val_dataset\", cfg, False, output_dir=\"/content/drive/MyDrive/Data 255/Homework 4/data/output_detectron2/\")\n",
        "val_loader = build_detection_test_loader(cfg, \"val_dataset\")"
      ],
      "metadata": {
        "colab": {
          "base_uri": "https://localhost:8080/"
        },
        "id": "h0LC_Wln3Y_n",
        "outputId": "ad85fa16-7923-4997-f446-a7748a50edd7"
      },
      "execution_count": 23,
      "outputs": [
        {
          "output_type": "stream",
          "name": "stdout",
          "text": [
            "[09/29 04:18:25 d2.evaluation.coco_evaluation]: Fast COCO eval is not built. Falling back to official COCO eval.\n",
            "WARNING [09/29 04:18:25 d2.evaluation.coco_evaluation]: COCO Evaluator instantiated using config, this is deprecated behavior. Please pass in explicit arguments instead.\n",
            "[09/29 04:18:25 d2.data.datasets.coco]: Loaded 51 images in COCO format from /content/drive/MyDrive/Data255/Data/val_annotations_coco.json\n",
            "[09/29 04:18:25 d2.data.dataset_mapper]: [DatasetMapper] Augmentations used in inference: [ResizeShortestEdge(short_edge_length=(800, 800), max_size=1333, sample_style='choice')]\n",
            "[09/29 04:18:25 d2.data.common]: Serializing the dataset using: <class 'detectron2.data.common._TorchSerializedList'>\n",
            "[09/29 04:18:25 d2.data.common]: Serializing 51 elements to byte tensors and concatenating them all ...\n",
            "[09/29 04:18:25 d2.data.common]: Serialized dataset takes 0.02 MiB\n"
          ]
        }
      ]
    },
    {
      "cell_type": "code",
      "source": [
        "# Evaluate the model\n",
        "results = inference_on_dataset(trainer.model, val_loader, evaluator)\n",
        "print(results)"
      ],
      "metadata": {
        "colab": {
          "base_uri": "https://localhost:8080/"
        },
        "id": "8zigkXs1AE2s",
        "outputId": "3d3b3884-f10a-45be-e96e-625d96a825bc"
      },
      "execution_count": 24,
      "outputs": [
        {
          "output_type": "stream",
          "name": "stdout",
          "text": [
            "[09/29 04:18:32 d2.evaluation.evaluator]: Start inference on 51 batches\n",
            "[09/29 04:18:35 d2.evaluation.evaluator]: Inference done 11/51. Dataloading: 0.0016 s/iter. Inference: 0.0809 s/iter. Eval: 0.0003 s/iter. Total: 0.0828 s/iter. ETA=0:00:03\n",
            "[09/29 04:18:38 d2.evaluation.evaluator]: Total inference time: 0:00:04.053593 (0.088122 s / iter per device, on 1 devices)\n",
            "[09/29 04:18:38 d2.evaluation.evaluator]: Total inference pure compute time: 0:00:03 (0.081936 s / iter per device, on 1 devices)\n",
            "[09/29 04:18:38 d2.evaluation.coco_evaluation]: Preparing results for COCO format ...\n",
            "[09/29 04:18:38 d2.evaluation.coco_evaluation]: Saving results to /content/drive/MyDrive/Data 255/Homework 4/data/output_detectron2/coco_instances_results.json\n",
            "[09/29 04:18:38 d2.evaluation.coco_evaluation]: Evaluating predictions with official COCO API...\n",
            "Loading and preparing results...\n",
            "DONE (t=0.00s)\n",
            "creating index...\n",
            "index created!\n",
            "Running per image evaluation...\n",
            "Evaluate annotation type *bbox*\n",
            "DONE (t=0.07s).\n",
            "Accumulating evaluation results...\n",
            "DONE (t=0.06s).\n",
            " Average Precision  (AP) @[ IoU=0.50:0.95 | area=   all | maxDets=100 ] = 0.498\n",
            " Average Precision  (AP) @[ IoU=0.50      | area=   all | maxDets=100 ] = 0.677\n",
            " Average Precision  (AP) @[ IoU=0.75      | area=   all | maxDets=100 ] = 0.596\n",
            " Average Precision  (AP) @[ IoU=0.50:0.95 | area= small | maxDets=100 ] = -1.000\n",
            " Average Precision  (AP) @[ IoU=0.50:0.95 | area=medium | maxDets=100 ] = 0.549\n",
            " Average Precision  (AP) @[ IoU=0.50:0.95 | area= large | maxDets=100 ] = 0.509\n",
            " Average Recall     (AR) @[ IoU=0.50:0.95 | area=   all | maxDets=  1 ] = 0.473\n",
            " Average Recall     (AR) @[ IoU=0.50:0.95 | area=   all | maxDets= 10 ] = 0.655\n",
            " Average Recall     (AR) @[ IoU=0.50:0.95 | area=   all | maxDets=100 ] = 0.662\n",
            " Average Recall     (AR) @[ IoU=0.50:0.95 | area= small | maxDets=100 ] = -1.000\n",
            " Average Recall     (AR) @[ IoU=0.50:0.95 | area=medium | maxDets=100 ] = 0.578\n",
            " Average Recall     (AR) @[ IoU=0.50:0.95 | area= large | maxDets=100 ] = 0.703\n",
            "[09/29 04:18:38 d2.evaluation.coco_evaluation]: Evaluation results for bbox: \n",
            "|   AP   |  AP50  |  AP75  |  APs  |  APm   |  APl   |\n",
            "|:------:|:------:|:------:|:-----:|:------:|:------:|\n",
            "| 49.765 | 67.675 | 59.615 |  nan  | 54.862 | 50.911 |\n",
            "[09/29 04:18:38 d2.evaluation.coco_evaluation]: Some metrics cannot be computed and is shown as NaN.\n",
            "[09/29 04:18:38 d2.evaluation.coco_evaluation]: Per-category bbox AP: \n",
            "| category     | AP     | category   | AP     | category   | AP     |\n",
            "|:-------------|:-------|:-----------|:-------|:-----------|:-------|\n",
            "| Hammer       | 59.547 | Pliers     | 21.135 | Rope       | 77.685 |\n",
            "| Screw Driver | 12.740 | Tool Box   | 68.795 | Wrench     | 58.685 |\n",
            "OrderedDict([('bbox', {'AP': 49.76460963057722, 'AP50': 67.67517325240107, 'AP75': 59.615333908745995, 'APs': nan, 'APm': 54.862486248624855, 'APl': 50.91130577443877, 'AP-Hammer': 59.54733068483815, 'AP-Pliers': 21.135077793493636, 'AP-Rope': 77.6850542197077, 'AP-Screw Driver': 12.739964230208844, 'AP-Tool Box': 68.79537953795378, 'AP-Wrench': 58.684851317261234})])\n"
          ]
        }
      ]
    },
    {
      "cell_type": "code",
      "source": [
        "from detectron2.engine import DefaultPredictor\n",
        "from detectron2.utils.visualizer import Visualizer\n",
        "import cv2\n",
        "import os"
      ],
      "metadata": {
        "id": "tH6iyq7dAGvC"
      },
      "execution_count": 25,
      "outputs": []
    },
    {
      "cell_type": "markdown",
      "source": [
        "## Now validating the test data"
      ],
      "metadata": {
        "id": "g_Zi9wLJewzt"
      }
    },
    {
      "cell_type": "code",
      "source": [
        "# Set the test dataset in the config\n",
        "cfg.MODEL.WEIGHTS = os.path.join(cfg.OUTPUT_DIR, \"model_final.pth\")\n",
        "cfg.MODEL.ROI_HEADS.SCORE_THRESH_TEST = 0.5  # Set threshold for prediction score\n",
        "cfg.DATASETS.TEST = (\"test_dataset\",)  # Test dataset name\n",
        "predictor = DefaultPredictor(cfg)"
      ],
      "metadata": {
        "colab": {
          "base_uri": "https://localhost:8080/"
        },
        "id": "ZkEadJ9TAI87",
        "outputId": "b12aaf1d-f640-4a27-d7ea-2764eb28c33d"
      },
      "execution_count": 26,
      "outputs": [
        {
          "output_type": "stream",
          "name": "stdout",
          "text": [
            "[09/29 04:18:47 d2.checkpoint.detection_checkpoint]: [DetectionCheckpointer] Loading from ./output/model_final.pth ...\n"
          ]
        },
        {
          "output_type": "stream",
          "name": "stderr",
          "text": [
            "/usr/local/lib/python3.10/dist-packages/fvcore/common/checkpoint.py:252: FutureWarning: You are using `torch.load` with `weights_only=False` (the current default value), which uses the default pickle module implicitly. It is possible to construct malicious pickle data which will execute arbitrary code during unpickling (See https://github.com/pytorch/pytorch/blob/main/SECURITY.md#untrusted-models for more details). In a future release, the default value for `weights_only` will be flipped to `True`. This limits the functions that could be executed during unpickling. Arbitrary objects will no longer be allowed to be loaded via this mode unless they are explicitly allowlisted by the user via `torch.serialization.add_safe_globals`. We recommend you start setting `weights_only=True` for any use case where you don't have full control of the loaded file. Please open an issue on GitHub for any issues related to this experimental feature.\n",
            "  return torch.load(f, map_location=torch.device(\"cpu\"))\n"
          ]
        }
      ]
    },
    {
      "cell_type": "code",
      "source": [
        "test_images_path = \"/content/drive/MyDrive/Data255/Data/test/images\"\n",
        "output_dir = \"/content/drive/MyDrive/Data255/Data/models_output_prediction\"\n",
        "os.makedirs(output_dir, exist_ok=True)"
      ],
      "metadata": {
        "id": "3zmt81wEAKG8"
      },
      "execution_count": 36,
      "outputs": []
    },
    {
      "cell_type": "code",
      "source": [
        "from detectron2.engine import DefaultPredictor\n",
        "from detectron2.utils.visualizer import Visualizer, ColorMode\n",
        "import cv2, os\n",
        "# Ensure correct class names for test dataset\n",
        "MetadataCatalog.get(\"test_dataset\").thing_classes = [\"Hammer\", \"Pliers\", \"Rope\", \"Screw Driver\", \"Tool Box\", \"Wrench\"]\n",
        "\n",
        "for img_file in os.listdir(test_images_path):\n",
        "    if img_file.endswith(\".jpg\") or img_file.endswith(\".png\"):\n",
        "        img_path = os.path.join(test_images_path, img_file)\n",
        "        im = cv2.imread(img_path)\n",
        "\n",
        "        # Perform inference\n",
        "        outputs = predictor(im)\n",
        "\n",
        "        # Visualize predictions and save the result\n",
        "        v = Visualizer(im[:, :, ::-1], MetadataCatalog.get(cfg.DATASETS.TEST[0]), scale=1.2, instance_mode=ColorMode.IMAGE_BW)\n",
        "\n",
        "        # Draw predictions with bounding boxes and labels\n",
        "        v = v.draw_instance_predictions(outputs[\"instances\"].to(\"cpu\"))\n",
        "\n",
        "        # Save the output image with bounding boxes and labels\n",
        "        output_img_path = os.path.join(output_dir, img_file)\n",
        "        cv2.imwrite(output_img_path, v.get_image()[:, :, ::-1])"
      ],
      "metadata": {
        "id": "F9OEIb9LATOF"
      },
      "execution_count": 37,
      "outputs": []
    },
    {
      "cell_type": "code",
      "source": [
        "for image_path in glob.glob('/content/drive/MyDrive/Data255/model_output_prediction/*.jpg')[:3]:\n",
        "      display(Image(filename=image_path, width=600))\n",
        "      print(\"\\n\")\n",
        "def find_classes(label_dir):\n",
        "    class_ids = set()\n",
        "    # Walk through the label directory\n",
        "    for subdir, dirs, files in os.walk(label_dir):\n",
        "        for file in files:\n",
        "            if file.endswith('.txt') and not file.startswith('classes'):\n",
        "                path = os.path.join(subdir, file)\n",
        "                with open(path, 'r') as f:\n",
        "                    lines = f.readlines()\n",
        "                    for line in lines:\n",
        "                        class_id = line.split()[0]\n",
        "                        class_ids.add(int(class_id))\n",
        "    return class_ids\n",
        "\n",
        "\n",
        "label_dir = '/path/to/your/labels/folder'\n",
        "unique_classes = find_classes(label_dir)\n",
        "print(\"Unique class IDs:\", unique_classes)\n",
        "print(\"Number of classes:\", len(unique_classes))"
      ],
      "metadata": {
        "id": "bHOUxnSWAXDJ"
      },
      "execution_count": null,
      "outputs": []
    },
    {
      "cell_type": "markdown",
      "source": [
        "# Display the 1st image"
      ],
      "metadata": {
        "id": "mf5LkHd6caOc"
      }
    },
    {
      "cell_type": "code",
      "source": [
        "import os\n",
        "from PIL import Image\n",
        "import matplotlib.pyplot as plt\n",
        "\n",
        "# Choose an example output image from the results\n",
        "output_dir = '/content/drive/MyDrive/Data255/Data/models_output_prediction'\n",
        "example_image = os.path.join(output_dir, os.listdir(output_dir)[0])\n",
        "\n",
        "# Display the 1st image\n",
        "image = Image.open(example_image)\n",
        "plt.imshow(image)\n",
        "plt.axis('off')\n",
        "plt.show()\n"
      ],
      "metadata": {
        "colab": {
          "base_uri": "https://localhost:8080/",
          "height": 406
        },
        "id": "UtpXsfgTCXzn",
        "outputId": "e2dd6b8a-43ab-468a-c85c-c7e81c126335"
      },
      "execution_count": 40,
      "outputs": [
        {
          "output_type": "display_data",
          "data": {
            "text/plain": [
              "<Figure size 640x480 with 1 Axes>"
            ],
            "image/png": "[encoded data removed]"
          },
          "metadata": {}
        }
      ]
    },
    {
      "cell_type": "code",
      "source": [],
      "metadata": {
        "id": "a_t9oUWXCel9"
      },
      "execution_count": null,
      "outputs": []
    }
  ]
}